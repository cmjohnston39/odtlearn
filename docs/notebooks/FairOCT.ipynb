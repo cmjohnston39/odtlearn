{
 "cells": [
  {
   "cell_type": "code",
   "execution_count": 1,
   "metadata": {
    "cell_id": "9f6aa203-41ca-4115-bb29-d712be96ef54",
    "deepnote_cell_height": 147.8333282470703,
    "deepnote_cell_type": "code",
    "deepnote_output_heights": [
     155
    ],
    "deepnote_to_be_reexecuted": false,
    "execution_millis": 2070,
    "execution_start": 1664768963307,
    "source_hash": "8d8057ff"
   },
   "outputs": [],
   "source": [
    "import numpy as np\n",
    "import pandas as pd\n",
    "import matplotlib.pyplot as plt\n",
    "\n",
    "from odtlearn.fair_oct import (\n",
    "    FairSPOCT,\n",
    "    FairPEOCT,\n",
    ")"
   ]
  },
  {
   "attachments": {},
   "cell_type": "markdown",
   "metadata": {
    "cell_id": "00002-d38f40a9-a495-4ec6-9f55-2fa7a429db49",
    "deepnote_cell_height": 211.3333282470703,
    "deepnote_cell_type": "markdown"
   },
   "source": [
    "# `FairOCT` Example\n",
    "\n",
    "First we generate the data for our example. The diagram within the code block visualizes the training data. We have two binary features (`X1`,`X2`) and two class labels (`+1` and `-1`). The protected feature is race, and it has two levels (`B` and `W`). In the visualization of the training data, we see that, for example, there are 7 instances with `(X1,X2) = (0,1)` and among these 7 instances, 5 of them are from race `W` and 2 of them from race `B`. We also show the breakdown of the instances based on their class label."
   ]
  },
  {
   "cell_type": "code",
   "execution_count": 2,
   "metadata": {
    "cell_id": "00003-828aafa4-e888-4279-bac2-fdc01ea1c483",
    "deepnote_cell_height": 615.8333129882812,
    "deepnote_cell_type": "code",
    "deepnote_to_be_reexecuted": false,
    "execution_millis": 0,
    "execution_start": 1664768965386,
    "source_hash": "39943288"
   },
   "outputs": [],
   "source": [
    "'''\n",
    "        X2                    |\n",
    "        |                     |\n",
    "        1    5W: 4(-) 1(+)    |     2W: 1(-) 1(+)\n",
    "        |    2B: 2(-)         |     5B: 3(-) 2(+)\n",
    "        |                     |    \n",
    "        |                     |   \n",
    "        |---------------------|------------------------\n",
    "        |                     |\n",
    "        0    4W: 3(-) 1(+)    |         3W: 1(-) 2(+) \n",
    "        |    1B:      1(+)    |         6B: 1(-) 5(+)\n",
    "        |                     | \n",
    "        |___________0_________|__________1_____________X1\n",
    "'''\n",
    "\n",
    "\n",
    "X = np.array([[0,0],[0,0],[0,0],[0,0],[0,0],\n",
    "                [1,0],[1,0],[1,0],[1,0],[1,0],[1,0],[1,0],[1,0],[1,0],\n",
    "                [1,1],[1,1],[1,1],[1,1],[1,1],[1,1],[1,1],\n",
    "                [0,1],[0,1],[0,1],[0,1],[0,1],[0,1],[0,1]])\n",
    "P = np.array([0,0,0,0,1,\n",
    "                0,0,0,1,1,1,1,1,1,\n",
    "                0,0,1,1,1,1,1,\n",
    "                0,0,0,0,0,1,1])\n",
    "y = np.array([0,0,0,1,1,\n",
    "                0,1,1,0,1,1,1,1,1,\n",
    "                0,1,0,0,0,1,1,\n",
    "                0,0,0,0,1,0,0])\n",
    "P = P.reshape(-1,1)\n",
    "\n",
    "l = X[:,1]"
   ]
  },
  {
   "attachments": {},
   "cell_type": "markdown",
   "metadata": {
    "cell_id": "00004-12c16ce2-fc19-4135-a78d-f6f2a81257f5",
    "deepnote_cell_height": 203.10000610351562,
    "deepnote_cell_type": "markdown"
   },
   "source": [
    "Let's investigate the following scenarios\n",
    "   \n",
    "- We evaluate statistical parity (SP) when we don't enforce any fairness constraint\n",
    "- We evaluate SP when we add SP constraint with fairbound 0.1\n",
    "- We evaluate predictive equality (PE) when we don't enforce any fairness constraint\n",
    "- We evaluate PE when we add PE constraint with fairbound 0.04\n",
    "\n",
    "We add a helper function for displaying the results from each scenario"
   ]
  },
  {
   "attachments": {},
   "cell_type": "markdown",
   "metadata": {
    "cell_id": "00006-96c13700-728d-4d39-b734-a75631b8b1ea",
    "deepnote_cell_height": 69.83332824707031,
    "deepnote_cell_type": "markdown"
   },
   "source": [
    "## Evaluating Statistical Parity without Fairness Constraint"
   ]
  },
  {
   "cell_type": "code",
   "execution_count": 3,
   "metadata": {
    "cell_id": "00007-aaf20252-b939-4fdf-b4af-bdaed3a68b7f",
    "deepnote_cell_height": 260.41668701171875,
    "deepnote_cell_type": "code",
    "deepnote_output_heights": [
     418,
     341
    ],
    "deepnote_to_be_reexecuted": false,
    "execution_millis": 379,
    "execution_start": 1664768965395,
    "owner_user_id": "fe086183-1334-4d34-b4e4-e2e52f4c0652",
    "source_hash": "dccc0ff"
   },
   "outputs": [
    {
     "name": "stdout",
     "output_type": "stream",
     "text": [
      "Set parameter Username\n",
      "Academic license - for non-commercial use only - expires 2024-06-27\n",
      "Set parameter TimeLimit to value 100\n",
      "Set parameter NodeLimit to value 1073741824\n",
      "Set parameter SolutionLimit to value 1073741824\n",
      "Set parameter IntFeasTol to value 1e-06\n",
      "Set parameter Method to value 3\n",
      "Gurobi Optimizer version 10.0.2 build v10.0.2rc0 (mac64[arm])\n",
      "\n",
      "CPU model: Apple M1 Pro\n",
      "Thread count: 8 physical cores, 8 logical processors, using up to 8 threads\n",
      "\n",
      "Optimize a model with 1192 rows, 615 columns and 3124 nonzeros\n",
      "Model fingerprint: 0xe9eb7e11\n",
      "Variable types: 14 continuous, 601 integer (601 binary)\n",
      "Coefficient statistics:\n",
      "  Matrix range     [7e-02, 1e+00]\n",
      "  Objective range  [1e-02, 1e+00]\n",
      "  Bounds range     [1e+00, 1e+00]\n",
      "  RHS range        [1e+00, 1e+00]\n",
      "Found heuristic solution: objective 12.8700000\n",
      "Presolve removed 734 rows and 294 columns\n",
      "Presolve time: 0.01s\n",
      "Presolved: 458 rows, 321 columns, 1450 nonzeros\n",
      "Variable types: 14 continuous, 307 integer (305 binary)\n",
      "\n",
      "Root relaxation: objective 2.274000e+01, 309 iterations, 0.00 seconds (0.00 work units)\n",
      "\n",
      "    Nodes    |    Current Node    |     Objective Bounds      |     Work\n",
      " Expl Unexpl |  Obj  Depth IntInf | Incumbent    BestBd   Gap | It/Node Time\n",
      "\n",
      "     0     0   22.74000    0   38   12.87000   22.74000  76.7%     -    0s\n",
      "H    0     0                      19.7700000   22.74000  15.0%     -    0s\n",
      "     0     0   21.76500    0   91   19.77000   21.76500  10.1%     -    0s\n",
      "H    0     0                      19.7800000   21.76500  10.0%     -    0s\n",
      "\n",
      "Cutting planes:\n",
      "  Gomory: 12\n",
      "  Clique: 186\n",
      "  MIR: 5\n",
      "  Flow cover: 1\n",
      "  Zero half: 4\n",
      "  RLT: 1\n",
      "\n",
      "Explored 1 nodes (491 simplex iterations) in 0.03 seconds (0.04 work units)\n",
      "Thread count was 8 (of 8 available processors)\n",
      "\n",
      "Solution count 3: 19.78 19.77 12.87 \n",
      "\n",
      "Optimal solution found (tolerance 1.00e-04)\n",
      "Best objective 1.978000000000e+01, best bound 1.978000000000e+01, gap 0.0000%\n"
     ]
    },
    {
     "data": {
      "text/plain": [
       "FairSPOCT(solver=gurobi,depth=2,time_limit=100,num_threads=None,verbose=False)"
      ]
     },
     "execution_count": 3,
     "metadata": {},
     "output_type": "execute_result"
    }
   ],
   "source": [
    "fcl_wo_SP = FairSPOCT(\n",
    "    solver=\"gurobi\",\n",
    "    positive_class=1,\n",
    "    depth=2,\n",
    "    _lambda=0.01,\n",
    "    time_limit=100,\n",
    "    fairness_bound=1,\n",
    "    num_threads=None,\n",
    "    obj_mode=\"acc\",\n",
    "    verbose=False,\n",
    ")\n",
    "fcl_wo_SP.fit(X, y, P, l)\n"
   ]
  },
  {
   "cell_type": "markdown",
   "metadata": {},
   "source": [
    "Next we calculate a summary for the fairness metric and the in-sample accuracy"
   ]
  },
  {
   "cell_type": "code",
   "execution_count": 4,
   "metadata": {},
   "outputs": [
    {
     "name": "stdout",
     "output_type": "stream",
     "text": [
      "    (p,y)  P(Y=y|P=p)\n",
      "0  (0, 0)    0.785714\n",
      "1  (1, 0)    0.571429\n",
      "2  (0, 1)    0.214286\n",
      "3  (1, 1)    0.428571\n"
     ]
    }
   ],
   "source": [
    "print(\n",
    "    pd.DataFrame(\n",
    "        fcl_wo_SP.calc_metric(P, fcl_wo_SP.predict(X)).items(),\n",
    "        columns=[\"(p,y)\", \"P(Y=y|P=p)\"],\n",
    "    )\n",
    ")"
   ]
  },
  {
   "cell_type": "code",
   "execution_count": 5,
   "metadata": {},
   "outputs": [
    {
     "name": "stdout",
     "output_type": "stream",
     "text": [
      "The in-sample accuracy is 0.7142857142857143\n"
     ]
    }
   ],
   "source": [
    "print(\n",
    "    \"The in-sample accuracy is {}\".format(\n",
    "        np.sum(fcl_wo_SP.predict(X) == y) / y.shape[0]\n",
    "    )\n",
    ")"
   ]
  },
  {
   "cell_type": "code",
   "execution_count": 6,
   "metadata": {
    "cell_id": "00008-88d08447-b6c6-493d-a585-ba6878df4ed8",
    "deepnote_cell_height": 551.75,
    "deepnote_cell_type": "code",
    "deepnote_output_heights": [
     406
    ],
    "deepnote_to_be_reexecuted": false,
    "execution_millis": 531,
    "execution_start": 1664768965777,
    "source_hash": "c8cb3503"
   },
   "outputs": [
    {
     "data": {
      "image/png": "[encoded data removed]",
      "text/plain": [
       "<Figure size 720x360 with 1 Axes>"
      ]
     },
     "metadata": {
      "needs_background": "light"
     },
     "output_type": "display_data"
    }
   ],
   "source": [
    "fig, ax = plt.subplots(figsize=(10, 5))\n",
    "fcl_wo_SP.plot_tree()\n",
    "plt.show()"
   ]
  },
  {
   "attachments": {},
   "cell_type": "markdown",
   "metadata": {
    "cell_id": "00009-5a7ae9ae-6977-46ae-bd82-76ca0b4c244f",
    "deepnote_cell_height": 69.83332824707031,
    "deepnote_cell_type": "markdown"
   },
   "source": [
    "## Evaluating Statistical Parity with Fairbound=0.1"
   ]
  },
  {
   "cell_type": "code",
   "execution_count": 7,
   "metadata": {
    "cell_id": "00010-40fd5634-4ec6-4d56-b3dc-ac4df66c350b",
    "deepnote_cell_height": 258.75,
    "deepnote_cell_type": "code",
    "deepnote_to_be_reexecuted": false,
    "execution_millis": 199,
    "execution_start": 1664768966380,
    "source_hash": "9cbb8a36"
   },
   "outputs": [
    {
     "name": "stdout",
     "output_type": "stream",
     "text": [
      "Set parameter Username\n",
      "Academic license - for non-commercial use only - expires 2024-06-27\n",
      "Set parameter TimeLimit to value 100\n",
      "Set parameter NodeLimit to value 1073741824\n",
      "Set parameter SolutionLimit to value 1073741824\n",
      "Set parameter IntFeasTol to value 1e-06\n",
      "Set parameter Method to value 3\n",
      "Gurobi Optimizer version 10.0.2 build v10.0.2rc0 (mac64[arm])\n",
      "\n",
      "CPU model: Apple M1 Pro\n",
      "Thread count: 8 physical cores, 8 logical processors, using up to 8 threads\n",
      "\n",
      "Optimize a model with 1192 rows, 615 columns and 3124 nonzeros\n",
      "Model fingerprint: 0x0654e912\n",
      "Variable types: 14 continuous, 601 integer (601 binary)\n",
      "Coefficient statistics:\n",
      "  Matrix range     [7e-02, 1e+00]\n",
      "  Objective range  [1e-02, 1e+00]\n",
      "  Bounds range     [1e+00, 1e+00]\n",
      "  RHS range        [1e-01, 1e+00]\n",
      "Found heuristic solution: objective 12.8700000\n",
      "Presolve removed 734 rows and 294 columns\n",
      "Presolve time: 0.01s\n",
      "Presolved: 458 rows, 321 columns, 1450 nonzeros\n",
      "Variable types: 14 continuous, 307 integer (305 binary)\n",
      "\n",
      "Root relaxation: objective 2.241667e+01, 401 iterations, 0.00 seconds (0.01 work units)\n",
      "\n",
      "    Nodes    |    Current Node    |     Objective Bounds      |     Work\n",
      " Expl Unexpl |  Obj  Depth IntInf | Incumbent    BestBd   Gap | It/Node Time\n",
      "\n",
      "     0     0   22.41667    0   77   12.87000   22.41667  74.2%     -    0s\n",
      "H    0     0                      14.8300000   22.41667  51.2%     -    0s\n",
      "H    0     0                      18.7800000   19.78500  5.35%     -    0s\n",
      "     0     0   19.78500    0   60   18.78000   19.78500  5.35%     -    0s\n",
      "     0     0   19.77500    0   62   18.78000   19.77500  5.30%     -    0s\n",
      "H    0     0                      18.7900000   19.77500  5.24%     -    0s\n",
      "H    0     1                      18.8000000   19.77500  5.19%     -    0s\n",
      "\n",
      "Cutting planes:\n",
      "  Gomory: 4\n",
      "  Clique: 120\n",
      "  RLT: 1\n",
      "\n",
      "Explored 1 nodes (700 simplex iterations) in 0.04 seconds (0.04 work units)\n",
      "Thread count was 8 (of 8 available processors)\n",
      "\n",
      "Solution count 5: 18.8 18.79 18.78 ... 12.87\n",
      "\n",
      "Optimal solution found (tolerance 1.00e-04)\n",
      "Best objective 1.880000000000e+01, best bound 1.880000000000e+01, gap 0.0000%\n"
     ]
    },
    {
     "data": {
      "text/plain": [
       "FairSPOCT(solver=gurobi,depth=2,time_limit=100,num_threads=None,verbose=False)"
      ]
     },
     "execution_count": 7,
     "metadata": {},
     "output_type": "execute_result"
    }
   ],
   "source": [
    "fcl_w_SP = FairSPOCT(\n",
    "    solver=\"gurobi\",\n",
    "    positive_class=1,\n",
    "    depth=2,\n",
    "    _lambda=0.01,\n",
    "    time_limit=100,\n",
    "    fairness_bound=0.1,\n",
    "    num_threads=None,\n",
    "    obj_mode=\"acc\",\n",
    "    verbose=False,\n",
    ")\n",
    "fcl_w_SP.fit(X, y, P, l)"
   ]
  },
  {
   "cell_type": "code",
   "execution_count": 8,
   "metadata": {},
   "outputs": [
    {
     "name": "stdout",
     "output_type": "stream",
     "text": [
      "    (p,y)  P(Y=y|P=p)\n",
      "0  (0, 1)         0.5\n",
      "1  (1, 1)         0.5\n",
      "2  (0, 0)         0.5\n",
      "3  (1, 0)         0.5\n"
     ]
    }
   ],
   "source": [
    "print(\n",
    "    pd.DataFrame(\n",
    "        fcl_w_SP.calc_metric(P, fcl_w_SP.predict(X)).items(),\n",
    "        columns=[\"(p,y)\", \"P(Y=y|P=p)\"],\n",
    "    )\n",
    ")"
   ]
  },
  {
   "cell_type": "code",
   "execution_count": 9,
   "metadata": {},
   "outputs": [
    {
     "name": "stdout",
     "output_type": "stream",
     "text": [
      "The in-sample accuracy is 0.6785714285714286\n"
     ]
    }
   ],
   "source": [
    "print(\n",
    "    \"The in-sample accuracy is {}\".format(np.sum(fcl_w_SP.predict(X) == y) / y.shape[0])\n",
    ")"
   ]
  },
  {
   "cell_type": "code",
   "execution_count": 10,
   "metadata": {
    "cell_id": "00011-465e21e7-d700-4646-aaf8-0757660525a1",
    "deepnote_cell_height": 533.75,
    "deepnote_cell_type": "code",
    "deepnote_output_heights": [
     406
    ],
    "deepnote_to_be_reexecuted": false,
    "execution_millis": 836,
    "execution_start": 1664768966589,
    "source_hash": "8e2b8990"
   },
   "outputs": [
    {
     "data": {
      "image/png": "[encoded data removed]",
      "text/plain": [
       "<Figure size 720x360 with 1 Axes>"
      ]
     },
     "metadata": {
      "needs_background": "light"
     },
     "output_type": "display_data"
    }
   ],
   "source": [
    "fig, ax = plt.subplots(figsize=(10, 5))\n",
    "fcl_w_SP.plot_tree()\n",
    "plt.show()"
   ]
  },
  {
   "attachments": {},
   "cell_type": "markdown",
   "metadata": {
    "cell_id": "00012-08371a03-7f3c-4270-85dc-b17626f9f9f4",
    "deepnote_cell_height": 69.83332824707031,
    "deepnote_cell_type": "markdown"
   },
   "source": [
    "## Evaluating PE Without Fairness Constraint"
   ]
  },
  {
   "cell_type": "code",
   "execution_count": 11,
   "metadata": {},
   "outputs": [
    {
     "name": "stdout",
     "output_type": "stream",
     "text": [
      "Set parameter Username\n",
      "Academic license - for non-commercial use only - expires 2024-06-27\n",
      "Set parameter TimeLimit to value 100\n",
      "Set parameter NodeLimit to value 1073741824\n",
      "Set parameter SolutionLimit to value 1073741824\n",
      "Set parameter IntFeasTol to value 1e-06\n",
      "Set parameter Method to value 3\n",
      "Gurobi Optimizer version 10.0.2 build v10.0.2rc0 (mac64[arm])\n",
      "\n",
      "CPU model: Apple M1 Pro\n",
      "Thread count: 8 physical cores, 8 logical processors, using up to 8 threads\n",
      "\n",
      "Optimize a model with 1192 rows, 615 columns and 2942 nonzeros\n",
      "Model fingerprint: 0x6c429b62\n",
      "Variable types: 14 continuous, 601 integer (601 binary)\n",
      "Coefficient statistics:\n",
      "  Matrix range     [1e-01, 1e+00]\n",
      "  Objective range  [1e-02, 1e+00]\n",
      "  Bounds range     [1e+00, 1e+00]\n",
      "  RHS range        [1e+00, 1e+00]\n",
      "Found heuristic solution: objective 12.8700000\n",
      "Presolve removed 1192 rows and 615 columns\n",
      "Presolve time: 0.01s\n",
      "Presolve: All rows and columns removed\n",
      "\n",
      "Explored 0 nodes (0 simplex iterations) in 0.01 seconds (0.01 work units)\n",
      "Thread count was 1 (of 8 available processors)\n",
      "\n",
      "Solution count 2: 19.78 12.87 \n",
      "\n",
      "Optimal solution found (tolerance 1.00e-04)\n",
      "Best objective 1.978000000000e+01, best bound 1.978000000000e+01, gap 0.0000%\n"
     ]
    },
    {
     "data": {
      "text/plain": [
       "FairPEOCT(solver=gurobi,depth=2,time_limit=100,num_threads=None,verbose=False)"
      ]
     },
     "execution_count": 11,
     "metadata": {},
     "output_type": "execute_result"
    }
   ],
   "source": [
    "fcl_wo_PE = FairPEOCT(\n",
    "    solver=\"gurobi\",\n",
    "    positive_class=1,\n",
    "    depth=2,\n",
    "    _lambda=0.01,\n",
    "    time_limit=100,\n",
    "    fairness_bound=1,\n",
    "    num_threads=None,\n",
    "    obj_mode=\"acc\",\n",
    "    verbose=False,\n",
    ")\n",
    "fcl_wo_PE.fit(X, y, P, l)\n"
   ]
  },
  {
   "cell_type": "code",
   "execution_count": 12,
   "metadata": {},
   "outputs": [
    {
     "name": "stdout",
     "output_type": "stream",
     "text": [
      "  (p, y, y_pred)  P(Y_pred=y_pred|P=p, Y=y)\n",
      "0      (0, 0, 0)                   0.888889\n",
      "1      (1, 0, 0)                   0.833333\n",
      "2      (0, 0, 1)                   0.111111\n",
      "3      (1, 0, 1)                   0.166667\n",
      "4      (0, 1, 0)                   0.600000\n",
      "5      (1, 1, 0)                   0.375000\n",
      "6      (0, 1, 1)                   0.400000\n",
      "7      (1, 1, 1)                   0.625000\n"
     ]
    }
   ],
   "source": [
    "print(\n",
    "    pd.DataFrame(\n",
    "        fcl_wo_PE.calc_metric(P, y, fcl_wo_PE.predict(X)).items(),\n",
    "        columns=[\"(p, y, y_pred)\", \"P(Y_pred=y_pred|P=p, Y=y)\"],\n",
    "    )\n",
    ")"
   ]
  },
  {
   "cell_type": "code",
   "execution_count": 13,
   "metadata": {
    "cell_id": "00013-5772e0a1-64e3-4a79-809e-8ba385f9d7cd",
    "deepnote_cell_height": 174.9499969482422,
    "deepnote_cell_type": "code",
    "deepnote_to_be_reexecuted": false,
    "execution_millis": 1276,
    "execution_start": 1664768966889,
    "source_hash": "abee3789"
   },
   "outputs": [
    {
     "name": "stdout",
     "output_type": "stream",
     "text": [
      "The in-sample accuracy is 0.7142857142857143\n"
     ]
    }
   ],
   "source": [
    "print(\n",
    "    \"The in-sample accuracy is {}\".format(\n",
    "        np.sum(fcl_wo_PE.predict(X) == y) / y.shape[0]\n",
    "    )\n",
    ")"
   ]
  },
  {
   "cell_type": "code",
   "execution_count": 14,
   "metadata": {
    "cell_id": "00014-824f6d0d-0b50-4de9-b097-1043ba64480f",
    "deepnote_cell_height": 414.75,
    "deepnote_cell_type": "code",
    "deepnote_output_heights": [
     287
    ],
    "deepnote_to_be_reexecuted": true,
    "execution_millis": 306,
    "execution_start": 1663103226333,
    "source_hash": "4c1250db"
   },
   "outputs": [
    {
     "data": {
      "image/png": "[encoded data removed]",
      "text/plain": [
       "<Figure size 720x360 with 1 Axes>"
      ]
     },
     "metadata": {
      "needs_background": "light"
     },
     "output_type": "display_data"
    }
   ],
   "source": [
    "fig, ax = plt.subplots(figsize=(10, 5))\n",
    "fcl_wo_PE.plot_tree()\n",
    "plt.show()"
   ]
  },
  {
   "attachments": {},
   "cell_type": "markdown",
   "metadata": {
    "cell_id": "00015-357e46d2-4cc1-40cc-91ca-ed3e44561088",
    "deepnote_cell_height": 69.83332824707031,
    "deepnote_cell_type": "markdown"
   },
   "source": [
    "## Evaluating PE with Fairbound=0.04"
   ]
  },
  {
   "cell_type": "code",
   "execution_count": 15,
   "metadata": {},
   "outputs": [
    {
     "name": "stdout",
     "output_type": "stream",
     "text": [
      "Set parameter Username\n",
      "Academic license - for non-commercial use only - expires 2024-06-27\n",
      "Set parameter TimeLimit to value 100\n",
      "Set parameter NodeLimit to value 1073741824\n",
      "Set parameter SolutionLimit to value 1073741824\n",
      "Set parameter IntFeasTol to value 1e-06\n",
      "Set parameter Method to value 3\n",
      "Gurobi Optimizer version 10.0.2 build v10.0.2rc0 (mac64[arm])\n",
      "\n",
      "CPU model: Apple M1 Pro\n",
      "Thread count: 8 physical cores, 8 logical processors, using up to 8 threads\n",
      "\n",
      "Optimize a model with 1192 rows, 615 columns and 2942 nonzeros\n",
      "Model fingerprint: 0x244097c5\n",
      "Variable types: 14 continuous, 601 integer (601 binary)\n",
      "Coefficient statistics:\n",
      "  Matrix range     [1e-01, 1e+00]\n",
      "  Objective range  [1e-02, 1e+00]\n",
      "  Bounds range     [1e+00, 1e+00]\n",
      "  RHS range        [4e-02, 1e+00]\n",
      "Found heuristic solution: objective 12.8700000\n",
      "Presolve removed 1181 rows and 593 columns\n",
      "Presolve time: 0.01s\n",
      "Presolved: 11 rows, 22 columns, 61 nonzeros\n",
      "Found heuristic solution: objective 14.8500000\n",
      "Variable types: 0 continuous, 22 integer (22 binary)\n",
      "\n",
      "Root relaxation: objective 1.961667e+01, 12 iterations, 0.00 seconds (0.00 work units)\n",
      "\n",
      "    Nodes    |    Current Node    |     Objective Bounds      |     Work\n",
      " Expl Unexpl |  Obj  Depth IntInf | Incumbent    BestBd   Gap | It/Node Time\n",
      "\n",
      "     0     0   19.61667    0    3   14.85000   19.61667  32.1%     -    0s\n",
      "     0     0   19.61500    0    1   14.85000   19.61500  32.1%     -    0s\n",
      "     0     0     cutoff    0        14.85000   14.85000  0.00%     -    0s\n",
      "\n",
      "Cutting planes:\n",
      "  Gomory: 1\n",
      "  Cover: 1\n",
      "  GUB cover: 1\n",
      "\n",
      "Explored 1 nodes (17 simplex iterations) in 0.01 seconds (0.01 work units)\n",
      "Thread count was 8 (of 8 available processors)\n",
      "\n",
      "Solution count 2: 14.85 12.87 \n",
      "\n",
      "Optimal solution found (tolerance 1.00e-04)\n",
      "Best objective 1.485000000000e+01, best bound 1.485000000000e+01, gap 0.0000%\n"
     ]
    },
    {
     "data": {
      "text/plain": [
       "FairPEOCT(solver=gurobi,depth=2,time_limit=100,num_threads=None,verbose=False)"
      ]
     },
     "execution_count": 15,
     "metadata": {},
     "output_type": "execute_result"
    }
   ],
   "source": [
    "fcl_w_PE = FairPEOCT(\n",
    "    solver=\"gurobi\",\n",
    "    positive_class=1,\n",
    "    depth=2,\n",
    "    _lambda=0.01,\n",
    "    time_limit=100,\n",
    "    fairness_bound=0.04,\n",
    "    num_threads=None,\n",
    "    obj_mode=\"acc\",\n",
    "    verbose=False,\n",
    ")\n",
    "fcl_w_PE.fit(X, y, P, l)\n"
   ]
  },
  {
   "cell_type": "code",
   "execution_count": 16,
   "metadata": {},
   "outputs": [
    {
     "name": "stdout",
     "output_type": "stream",
     "text": [
      "  (p, y, y_pred)  P(Y_pred=y_pred|P=p, Y=y)\n",
      "0      (0, 0, 0)                        1.0\n",
      "1      (1, 0, 0)                        1.0\n",
      "2      (0, 0, 1)                        0.0\n",
      "3      (1, 0, 1)                        0.0\n",
      "4      (0, 1, 0)                        1.0\n",
      "5      (1, 1, 0)                        1.0\n",
      "6      (0, 1, 1)                        0.0\n",
      "7      (1, 1, 1)                        0.0\n"
     ]
    }
   ],
   "source": [
    "print(\n",
    "    pd.DataFrame(\n",
    "        fcl_w_PE.calc_metric(P, y, fcl_w_PE.predict(X)).items(),\n",
    "        columns=[\"(p, y, y_pred)\", \"P(Y_pred=y_pred|P=p, Y=y)\"],\n",
    "    )\n",
    ")"
   ]
  },
  {
   "cell_type": "code",
   "execution_count": 17,
   "metadata": {
    "cell_id": "00016-25ac4b41-560b-4557-80a6-af627103c194",
    "deepnote_cell_height": 319.41668701171875,
    "deepnote_cell_type": "code",
    "deepnote_to_be_reexecuted": true,
    "execution_millis": 1185,
    "execution_start": 1663103226644,
    "source_hash": "147ef924"
   },
   "outputs": [
    {
     "name": "stdout",
     "output_type": "stream",
     "text": [
      "The in-sample accuracy is 0.5357142857142857\n"
     ]
    }
   ],
   "source": [
    "print(\n",
    "    \"The in-sample accuracy is {}\".format(np.sum(fcl_w_PE.predict(X) == y) / y.shape[0])\n",
    ")"
   ]
  },
  {
   "cell_type": "code",
   "execution_count": 18,
   "metadata": {
    "cell_id": "00017-4ddf319a-77f0-44e6-bc09-de8b1bda6427",
    "deepnote_cell_height": 210.75,
    "deepnote_cell_type": "code",
    "deepnote_output_heights": [
     83
    ],
    "deepnote_to_be_reexecuted": true,
    "execution_millis": 879,
    "execution_start": 1663103226961,
    "source_hash": "c935b9cf"
   },
   "outputs": [
    {
     "data": {
      "image/png": "[encoded data removed]",
      "text/plain": [
       "<Figure size 180x90 with 1 Axes>"
      ]
     },
     "metadata": {
      "needs_background": "light"
     },
     "output_type": "display_data"
    }
   ],
   "source": [
    "fig, ax = plt.subplots(figsize=(2.5, 1.25))\n",
    "fcl_w_PE.plot_tree()\n",
    "plt.show()"
   ]
  }
 ],
 "metadata": {
  "deepnote": {},
  "deepnote_execution_queue": [],
  "deepnote_notebook_id": "1f4eebdf-48c3-4b4c-8eda-a5a275fef654",
  "kernelspec": {
   "display_name": "base",
   "language": "python",
   "name": "python3"
  },
  "language_info": {
   "codemirror_mode": {
    "name": "ipython",
    "version": 3
   },
   "file_extension": ".py",
   "mimetype": "text/x-python",
   "name": "python",
   "nbconvert_exporter": "python",
   "pygments_lexer": "ipython3",
   "version": "3.9.13"
  }
 },
 "nbformat": 4,
 "nbformat_minor": 4
}
