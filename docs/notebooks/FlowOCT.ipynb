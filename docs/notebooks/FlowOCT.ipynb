{
 "cells": [
  {
   "cell_type": "code",
   "execution_count": 6,
   "metadata": {
    "cell_id": "21658c23-2ef7-42e3-bf53-75fba223fcdd",
    "deepnote_cell_height": 202,
    "deepnote_cell_type": "code",
    "deepnote_to_be_reexecuted": false,
    "execution_millis": 1891,
    "execution_start": 1665161862284,
    "source_hash": "9500ca25"
   },
   "outputs": [],
   "source": [
    "import numpy as np\n",
    "import pandas as pd\n",
    "import matplotlib.pyplot as plt\n",
    "from sklearn.preprocessing import OneHotEncoder\n",
    "\n",
    "from odtlearn.flow_oct import FlowOCT, BendersOCT\n",
    "from odtlearn.utils.binarize import binarize"
   ]
  },
  {
   "attachments": {},
   "cell_type": "markdown",
   "metadata": {
    "cell_id": "22bfbe5ce3fb479c900abc4c0443c38a",
    "deepnote_cell_height": 84,
    "deepnote_cell_type": "markdown",
    "tags": []
   },
   "source": [
    "# `FlowOCT` Examples"
   ]
  },
  {
   "attachments": {},
   "cell_type": "markdown",
   "metadata": {
    "cell_id": "1d288c39a9ae485b822dbf5eccbd89e3",
    "deepnote_cell_height": 108,
    "deepnote_cell_type": "markdown",
    "tags": []
   },
   "source": [
    "## Example 0: Binarization\n",
    "\n",
    "The following example shows how to binarize a dataset with categorical and integer features using the built-in function `binarize`."
   ]
  },
  {
   "cell_type": "code",
   "execution_count": 7,
   "metadata": {
    "cell_id": "4ed40d742b8d40c697c0ab3d765eaf45",
    "deepnote_cell_height": 166,
    "deepnote_cell_type": "code",
    "deepnote_to_be_reexecuted": false,
    "execution_millis": 2,
    "execution_start": 1665161870277,
    "source_hash": "c7737b5a",
    "tags": []
   },
   "outputs": [],
   "source": [
    "number_of_child_list = [1, 2, 4, 3, 1, 2, 4, 3, 2, 1]\n",
    "age_list = [10, 20, 40, 30, 10, 20, 40, 30, 20, 10]\n",
    "race_list = [\n",
    "    \"Black\",\n",
    "    \"White\",\n",
    "    \"Hispanic\",\n",
    "    \"Black\",\n",
    "    \"White\",\n",
    "    \"Black\",\n",
    "    \"White\",\n",
    "    \"Hispanic\",\n",
    "    \"Black\",\n",
    "    \"White\",\n",
    "]\n",
    "sex_list = [\"M\", \"F\", \"M\", \"M\", \"F\", \"M\", \"F\", \"M\", \"M\", \"F\"]\n",
    "df = pd.DataFrame(\n",
    "    list(zip(sex_list, race_list, number_of_child_list, age_list)),\n",
    "    columns=[\"sex\", \"race\", \"num_child\", \"age\"],\n",
    ")"
   ]
  },
  {
   "cell_type": "code",
   "execution_count": 8,
   "metadata": {
    "cell_id": "7abc1f79d5044501a954f66ddda8a2d7",
    "deepnote_cell_height": 628,
    "deepnote_cell_type": "code",
    "deepnote_to_be_reexecuted": false,
    "execution_millis": 67,
    "execution_start": 1664770046804,
    "source_hash": "10849c45",
    "tags": []
   },
   "outputs": [
    {
     "data": {
      "text/html": [
       "<div>\n",
       "<style scoped>\n",
       "    .dataframe tbody tr th:only-of-type {\n",
       "        vertical-align: middle;\n",
       "    }\n",
       "\n",
       "    .dataframe tbody tr th {\n",
       "        vertical-align: top;\n",
       "    }\n",
       "\n",
       "    .dataframe thead th {\n",
       "        text-align: right;\n",
       "    }\n",
       "</style>\n",
       "<table border=\"1\" class=\"dataframe\">\n",
       "  <thead>\n",
       "    <tr style=\"text-align: right;\">\n",
       "      <th></th>\n",
       "      <th>sex_M</th>\n",
       "      <th>race_Black</th>\n",
       "      <th>race_Hispanic</th>\n",
       "      <th>race_White</th>\n",
       "      <th>num_child_1</th>\n",
       "      <th>num_child_2</th>\n",
       "      <th>num_child_3</th>\n",
       "      <th>num_child_4</th>\n",
       "      <th>age_10</th>\n",
       "      <th>age_20</th>\n",
       "      <th>age_30</th>\n",
       "      <th>age_40</th>\n",
       "    </tr>\n",
       "  </thead>\n",
       "  <tbody>\n",
       "    <tr>\n",
       "      <th>0</th>\n",
       "      <td>1</td>\n",
       "      <td>1</td>\n",
       "      <td>0</td>\n",
       "      <td>0</td>\n",
       "      <td>1</td>\n",
       "      <td>1</td>\n",
       "      <td>1</td>\n",
       "      <td>1</td>\n",
       "      <td>1</td>\n",
       "      <td>1</td>\n",
       "      <td>1</td>\n",
       "      <td>1</td>\n",
       "    </tr>\n",
       "    <tr>\n",
       "      <th>1</th>\n",
       "      <td>0</td>\n",
       "      <td>0</td>\n",
       "      <td>0</td>\n",
       "      <td>1</td>\n",
       "      <td>0</td>\n",
       "      <td>1</td>\n",
       "      <td>1</td>\n",
       "      <td>1</td>\n",
       "      <td>0</td>\n",
       "      <td>1</td>\n",
       "      <td>1</td>\n",
       "      <td>1</td>\n",
       "    </tr>\n",
       "    <tr>\n",
       "      <th>2</th>\n",
       "      <td>1</td>\n",
       "      <td>0</td>\n",
       "      <td>1</td>\n",
       "      <td>0</td>\n",
       "      <td>0</td>\n",
       "      <td>0</td>\n",
       "      <td>0</td>\n",
       "      <td>1</td>\n",
       "      <td>0</td>\n",
       "      <td>0</td>\n",
       "      <td>0</td>\n",
       "      <td>1</td>\n",
       "    </tr>\n",
       "    <tr>\n",
       "      <th>3</th>\n",
       "      <td>1</td>\n",
       "      <td>1</td>\n",
       "      <td>0</td>\n",
       "      <td>0</td>\n",
       "      <td>0</td>\n",
       "      <td>0</td>\n",
       "      <td>1</td>\n",
       "      <td>1</td>\n",
       "      <td>0</td>\n",
       "      <td>0</td>\n",
       "      <td>1</td>\n",
       "      <td>1</td>\n",
       "    </tr>\n",
       "    <tr>\n",
       "      <th>4</th>\n",
       "      <td>0</td>\n",
       "      <td>0</td>\n",
       "      <td>0</td>\n",
       "      <td>1</td>\n",
       "      <td>1</td>\n",
       "      <td>1</td>\n",
       "      <td>1</td>\n",
       "      <td>1</td>\n",
       "      <td>1</td>\n",
       "      <td>1</td>\n",
       "      <td>1</td>\n",
       "      <td>1</td>\n",
       "    </tr>\n",
       "    <tr>\n",
       "      <th>5</th>\n",
       "      <td>1</td>\n",
       "      <td>1</td>\n",
       "      <td>0</td>\n",
       "      <td>0</td>\n",
       "      <td>0</td>\n",
       "      <td>1</td>\n",
       "      <td>1</td>\n",
       "      <td>1</td>\n",
       "      <td>0</td>\n",
       "      <td>1</td>\n",
       "      <td>1</td>\n",
       "      <td>1</td>\n",
       "    </tr>\n",
       "    <tr>\n",
       "      <th>6</th>\n",
       "      <td>0</td>\n",
       "      <td>0</td>\n",
       "      <td>0</td>\n",
       "      <td>1</td>\n",
       "      <td>0</td>\n",
       "      <td>0</td>\n",
       "      <td>0</td>\n",
       "      <td>1</td>\n",
       "      <td>0</td>\n",
       "      <td>0</td>\n",
       "      <td>0</td>\n",
       "      <td>1</td>\n",
       "    </tr>\n",
       "    <tr>\n",
       "      <th>7</th>\n",
       "      <td>1</td>\n",
       "      <td>0</td>\n",
       "      <td>1</td>\n",
       "      <td>0</td>\n",
       "      <td>0</td>\n",
       "      <td>0</td>\n",
       "      <td>1</td>\n",
       "      <td>1</td>\n",
       "      <td>0</td>\n",
       "      <td>0</td>\n",
       "      <td>1</td>\n",
       "      <td>1</td>\n",
       "    </tr>\n",
       "    <tr>\n",
       "      <th>8</th>\n",
       "      <td>1</td>\n",
       "      <td>1</td>\n",
       "      <td>0</td>\n",
       "      <td>0</td>\n",
       "      <td>0</td>\n",
       "      <td>1</td>\n",
       "      <td>1</td>\n",
       "      <td>1</td>\n",
       "      <td>0</td>\n",
       "      <td>1</td>\n",
       "      <td>1</td>\n",
       "      <td>1</td>\n",
       "    </tr>\n",
       "    <tr>\n",
       "      <th>9</th>\n",
       "      <td>0</td>\n",
       "      <td>0</td>\n",
       "      <td>0</td>\n",
       "      <td>1</td>\n",
       "      <td>1</td>\n",
       "      <td>1</td>\n",
       "      <td>1</td>\n",
       "      <td>1</td>\n",
       "      <td>1</td>\n",
       "      <td>1</td>\n",
       "      <td>1</td>\n",
       "      <td>1</td>\n",
       "    </tr>\n",
       "  </tbody>\n",
       "</table>\n",
       "</div>"
      ],
      "text/plain": [
       "   sex_M  race_Black  race_Hispanic  race_White  num_child_1  num_child_2  \\\n",
       "0      1           1              0           0            1            1   \n",
       "1      0           0              0           1            0            1   \n",
       "2      1           0              1           0            0            0   \n",
       "3      1           1              0           0            0            0   \n",
       "4      0           0              0           1            1            1   \n",
       "5      1           1              0           0            0            1   \n",
       "6      0           0              0           1            0            0   \n",
       "7      1           0              1           0            0            0   \n",
       "8      1           1              0           0            0            1   \n",
       "9      0           0              0           1            1            1   \n",
       "\n",
       "   num_child_3  num_child_4  age_10  age_20  age_30  age_40  \n",
       "0            1            1       1       1       1       1  \n",
       "1            1            1       0       1       1       1  \n",
       "2            0            1       0       0       0       1  \n",
       "3            1            1       0       0       1       1  \n",
       "4            1            1       1       1       1       1  \n",
       "5            1            1       0       1       1       1  \n",
       "6            0            1       0       0       0       1  \n",
       "7            1            1       0       0       1       1  \n",
       "8            1            1       0       1       1       1  \n",
       "9            1            1       1       1       1       1  "
      ]
     },
     "execution_count": 8,
     "metadata": {},
     "output_type": "execute_result"
    }
   ],
   "source": [
    "df_enc = binarize(\n",
    "    df, categorical_cols=[\"sex\", \"race\"], integer_cols=[\"num_child\", \"age\"]\n",
    ")\n",
    "df_enc"
   ]
  },
  {
   "attachments": {},
   "cell_type": "markdown",
   "metadata": {
    "cell_id": "00002-e9b87ac4-673e-49e4-9b9e-b65b2cea9708",
    "deepnote_cell_height": 188,
    "deepnote_cell_type": "markdown"
   },
   "source": [
    "## Example 1: Varying `depth` and `_lambda`\n",
    "In this part, we study a simple example and investigate different parameter combinations to provide intuition on how they affect the structure of the tree.\n",
    "\n",
    "First we generate the data for our example. The diagram within the code block shows the training dataset. Our dataset has two binary features (X1 and X2) and two class labels (+1 and -1)."
   ]
  },
  {
   "cell_type": "code",
   "execution_count": 9,
   "metadata": {
    "cell_id": "00003-848cadcc-11d1-4e7f-b476-6b0aa6fc5b44",
    "deepnote_cell_height": 310,
    "deepnote_cell_type": "code",
    "deepnote_to_be_reexecuted": false,
    "execution_millis": 3,
    "execution_start": 1665161893704,
    "owner_user_id": "fe086183-1334-4d34-b4e4-e2e52f4c0652",
    "source_hash": "75060998"
   },
   "outputs": [],
   "source": [
    "from odtlearn.datasets import flow_oct_example\n",
    "\n",
    "\"\"\"\n",
    "    X2\n",
    "    |               |\n",
    "    |               |\n",
    "    1    + +        |    -\n",
    "    |               |   \n",
    "    |---------------|-------------\n",
    "    |               |\n",
    "    0    - - - -    |    + + +\n",
    "    |    - - -      |\n",
    "    |______0________|_______1_______X1\n",
    "\"\"\"\n",
    "\n",
    "\n",
    "X, y = flow_oct_example()"
   ]
  },
  {
   "attachments": {},
   "cell_type": "markdown",
   "metadata": {
    "cell_id": "00004-08d3e617-af87-4be1-ae2d-e7894cfe2beb",
    "deepnote_cell_height": 101,
    "deepnote_cell_type": "markdown"
   },
   "source": [
    "### Tree with `depth = 1`\n",
    "\n",
    "In the following, we fit a classification tree of depth 1, i.e., a tree with a single branching node and two leaf nodes."
   ]
  },
  {
   "cell_type": "code",
   "execution_count": 10,
   "metadata": {
    "cell_id": "00005-3fdf503d-31bf-499d-a332-db805ec8b030",
    "deepnote_cell_height": 230,
    "deepnote_cell_type": "code",
    "deepnote_output_heights": [
     null,
     20
    ],
    "deepnote_to_be_reexecuted": false,
    "execution_millis": 773,
    "execution_start": 1665161919210,
    "source_hash": "9ef0a950"
   },
   "outputs": [
    {
     "name": "stdout",
     "output_type": "stream",
     "text": [
      "Set parameter Username\n",
      "Academic license - for non-commercial use only - expires 2024-06-27\n",
      "Set parameter TimeLimit to value 100\n",
      "Set parameter NodeLimit to value 1073741824\n",
      "Set parameter SolutionLimit to value 1073741824\n",
      "Set parameter IntFeasTol to value 1e-06\n",
      "Set parameter Method to value 3\n",
      "Gurobi Optimizer version 10.0.2 build v10.0.2rc0 (mac64[arm])\n",
      "\n",
      "CPU model: Apple M1 Pro\n",
      "Thread count: 8 physical cores, 8 logical processors, using up to 8 threads\n",
      "\n",
      "Optimize a model with 110 rows, 89 columns and 250 nonzeros\n",
      "Model fingerprint: 0x5e9209d1\n",
      "Variable types: 84 continuous, 5 integer (5 binary)\n",
      "Coefficient statistics:\n",
      "  Matrix range     [1e+00, 1e+00]\n",
      "  Objective range  [1e+00, 1e+00]\n",
      "  Bounds range     [1e+00, 1e+00]\n",
      "  RHS range        [1e+00, 1e+00]\n",
      "Presolve removed 102 rows and 82 columns\n",
      "Presolve time: 0.00s\n",
      "Presolved: 8 rows, 7 columns, 16 nonzeros\n",
      "Variable types: 6 continuous, 1 integer (1 binary)\n",
      "Found heuristic solution: objective 9.0000000\n",
      "\n",
      "Root relaxation: objective 1.000000e+01, 2 iterations, 0.00 seconds (0.00 work units)\n",
      "\n",
      "    Nodes    |    Current Node    |     Objective Bounds      |     Work\n",
      " Expl Unexpl |  Obj  Depth IntInf | Incumbent    BestBd   Gap | It/Node Time\n",
      "\n",
      "*    0     0               0      10.0000000   10.00000  0.00%     -    0s\n",
      "\n",
      "Explored 1 nodes (2 simplex iterations) in 0.01 seconds (0.00 work units)\n",
      "Thread count was 8 (of 8 available processors)\n",
      "\n",
      "Solution count 2: 10 9 \n",
      "\n",
      "Optimal solution found (tolerance 1.00e-04)\n",
      "Best objective 1.000000000000e+01, best bound 1.000000000000e+01, gap 0.0000%\n"
     ]
    },
    {
     "data": {
      "text/plain": [
       "FlowOCT(solver=gurobi,depth=1,time_limit=100,num_threads=None,verbose=False)"
      ]
     },
     "execution_count": 10,
     "metadata": {},
     "output_type": "execute_result"
    }
   ],
   "source": [
    "stcl = FlowOCT(depth=1, solver=\"gurobi\", time_limit=100)\n",
    "stcl.fit(X, y)"
   ]
  },
  {
   "cell_type": "code",
   "execution_count": 11,
   "metadata": {
    "cell_id": "00006-3528e5a2-503d-41bd-b914-933e4b53d8a4",
    "deepnote_cell_height": 163,
    "deepnote_cell_type": "code",
    "deepnote_to_be_reexecuted": false,
    "execution_millis": 928,
    "execution_start": 1665161928297,
    "source_hash": "ab843413"
   },
   "outputs": [
    {
     "name": "stdout",
     "output_type": "stream",
     "text": [
      "Optimality gap is 0.0\n",
      "In-sample accuracy is 0.7692307692307693\n"
     ]
    }
   ],
   "source": [
    "predictions = stcl.predict(X)\n",
    "print(f'Optimality gap is {stcl._solver.optim_gap}')\n",
    "print(f\"In-sample accuracy is {np.sum(predictions==y)/y.shape[0]}\")"
   ]
  },
  {
   "attachments": {},
   "cell_type": "markdown",
   "metadata": {
    "cell_id": "00007-ff875aa5-d595-4038-9c0c-db76394cb64e",
    "deepnote_cell_height": 110,
    "deepnote_cell_type": "markdown"
   },
   "source": [
    "As we can see above, we find the optimal tree and the in-sample accuracy is 76%.\n",
    "\n",
    "ODTlearn provides two different ways of visualizing the structure of the tree. The first method prints the structure of the tree in the console:"
   ]
  },
  {
   "cell_type": "code",
   "execution_count": 12,
   "metadata": {
    "cell_id": "00008-7810b10f-28cc-4cfa-bcce-b3c6fe18be24",
    "deepnote_cell_height": 207,
    "deepnote_cell_type": "code",
    "deepnote_to_be_reexecuted": false,
    "execution_millis": 3,
    "execution_start": 1665161943547,
    "source_hash": "2f43d041"
   },
   "outputs": [
    {
     "name": "stdout",
     "output_type": "stream",
     "text": [
      "#########node  1\n",
      "branch on X_0\n",
      "#########node  2\n",
      "leaf 0\n",
      "#########node  3\n",
      "leaf 1\n"
     ]
    }
   ],
   "source": [
    "stcl.print_tree()"
   ]
  },
  {
   "attachments": {},
   "cell_type": "markdown",
   "metadata": {
    "cell_id": "00009-90bfb8df-67ac-4e97-abe9-8076249db2b8",
    "deepnote_cell_height": 52,
    "deepnote_cell_type": "markdown"
   },
   "source": [
    "The second method plots the structure of the tree using `matplotlib`:"
   ]
  },
  {
   "cell_type": "code",
   "execution_count": 13,
   "metadata": {
    "cell_id": "00010-c3d86f40-82ba-45c3-aa11-b8fddb6bead1",
    "deepnote_cell_height": 534,
    "deepnote_cell_type": "code",
    "deepnote_output_heights": [
     406
    ],
    "deepnote_to_be_reexecuted": false,
    "execution_millis": 270,
    "execution_start": 1665161948808,
    "source_hash": "d2159fb3"
   },
   "outputs": [
    {
     "data": {
      "image/png": "[encoded data removed]",
      "text/plain": [
       "<Figure size 360x360 with 1 Axes>"
      ]
     },
     "metadata": {
      "needs_background": "light"
     },
     "output_type": "display_data"
    }
   ],
   "source": [
    "fig, ax = plt.subplots(figsize=(5, 5))\n",
    "stcl.plot_tree(ax=ax)\n",
    "plt.show()"
   ]
  },
  {
   "attachments": {},
   "cell_type": "markdown",
   "metadata": {
    "cell_id": "00011-8ac47211-d4df-494b-9423-fccb70be09ca",
    "deepnote_cell_height": 101,
    "deepnote_cell_type": "markdown"
   },
   "source": [
    "### Tree with `depth = 2`\n",
    "\n",
    "Now we increase the depth of the tree to achieve higher accuracy."
   ]
  },
  {
   "cell_type": "code",
   "execution_count": 14,
   "metadata": {
    "cell_id": "00012-6fd1f710-63dc-45bc-aea9-fb6544a3e13d",
    "deepnote_cell_height": 184,
    "deepnote_cell_type": "code",
    "deepnote_output_heights": [
     20
    ],
    "deepnote_to_be_reexecuted": false,
    "execution_millis": 7,
    "execution_start": 1665161961681,
    "source_hash": "1c3c8b1c"
   },
   "outputs": [
    {
     "name": "stdout",
     "output_type": "stream",
     "text": [
      "Set parameter Username\n",
      "Academic license - for non-commercial use only - expires 2024-06-27\n",
      "Set parameter TimeLimit to value 60\n",
      "Set parameter NodeLimit to value 1073741824\n",
      "Set parameter SolutionLimit to value 1073741824\n",
      "Set parameter IntFeasTol to value 1e-06\n",
      "Set parameter Method to value 3\n",
      "Gurobi Optimizer version 10.0.2 build v10.0.2rc0 (mac64[arm])\n",
      "\n",
      "CPU model: Apple M1 Pro\n",
      "Thread count: 8 physical cores, 8 logical processors, using up to 8 threads\n",
      "\n",
      "Optimize a model with 274 rows, 209 columns and 642 nonzeros\n",
      "Model fingerprint: 0x51470803\n",
      "Variable types: 196 continuous, 13 integer (13 binary)\n",
      "Coefficient statistics:\n",
      "  Matrix range     [1e+00, 1e+00]\n",
      "  Objective range  [1e+00, 1e+00]\n",
      "  Bounds range     [1e+00, 1e+00]\n",
      "  RHS range        [1e+00, 1e+00]\n",
      "Found heuristic solution: objective -0.0000000\n",
      "Presolve removed 250 rows and 187 columns\n",
      "Presolve time: 0.00s\n",
      "Presolved: 24 rows, 22 columns, 76 nonzeros\n",
      "Found heuristic solution: objective 8.0000000\n",
      "Variable types: 16 continuous, 6 integer (6 binary)\n",
      "\n",
      "Root relaxation: objective 1.300000e+01, 14 iterations, 0.00 seconds (0.00 work units)\n",
      "\n",
      "    Nodes    |    Current Node    |     Objective Bounds      |     Work\n",
      " Expl Unexpl |  Obj  Depth IntInf | Incumbent    BestBd   Gap | It/Node Time\n",
      "\n",
      "*    0     0               0      13.0000000   13.00000  0.00%     -    0s\n",
      "\n",
      "Explored 1 nodes (14 simplex iterations) in 0.00 seconds (0.00 work units)\n",
      "Thread count was 8 (of 8 available processors)\n",
      "\n",
      "Solution count 3: 13 8 -0 \n",
      "\n",
      "Optimal solution found (tolerance 1.00e-04)\n",
      "Best objective 1.300000000000e+01, best bound 1.300000000000e+01, gap 0.0000%\n"
     ]
    },
    {
     "data": {
      "text/plain": [
       "FlowOCT(solver=gurobi,depth=2,time_limit=60,num_threads=None,verbose=False)"
      ]
     },
     "execution_count": 14,
     "metadata": {},
     "output_type": "execute_result"
    }
   ],
   "source": [
    "stcl = FlowOCT(depth=2, solver=\"gurobi\")\n",
    "stcl.fit(X, y)"
   ]
  },
  {
   "cell_type": "code",
   "execution_count": 15,
   "metadata": {
    "cell_id": "00013-c3674981-c2c8-4b4b-b429-57a230ae5e93",
    "deepnote_cell_height": 163,
    "deepnote_cell_type": "code",
    "deepnote_to_be_reexecuted": false,
    "execution_millis": 619,
    "execution_start": 1665161968547,
    "source_hash": "6b45f8a6"
   },
   "outputs": [
    {
     "name": "stdout",
     "output_type": "stream",
     "text": [
      "In-sample accuracy is 1.0\n"
     ]
    }
   ],
   "source": [
    "predictions = stcl.predict(X)\n",
    "print(f\"In-sample accuracy is {np.sum(predictions==y)/y.shape[0]}\")"
   ]
  },
  {
   "attachments": {},
   "cell_type": "markdown",
   "metadata": {
    "cell_id": "9ee768479e2a4cbd84a0fa6352d26365",
    "deepnote_cell_height": 52,
    "deepnote_cell_type": "markdown",
    "tags": []
   },
   "source": [
    "As we can see, with depth 2, we can achieve 100% in-sample accuracy."
   ]
  },
  {
   "cell_type": "code",
   "execution_count": 16,
   "metadata": {
    "cell_id": "a9fba11c28df4a56a1a0a3102d2b0314",
    "deepnote_cell_height": 534,
    "deepnote_cell_type": "code",
    "deepnote_output_heights": [
     406
    ],
    "deepnote_to_be_reexecuted": false,
    "execution_millis": 366,
    "execution_start": 1665161976627,
    "source_hash": "702243f5",
    "tags": []
   },
   "outputs": [
    {
     "data": {
      "image/png": "[encoded data removed]",
      "text/plain": [
       "<Figure size 720x360 with 1 Axes>"
      ]
     },
     "metadata": {
      "needs_background": "light"
     },
     "output_type": "display_data"
    }
   ],
   "source": [
    "fig, ax = plt.subplots(figsize=(10, 5))\n",
    "stcl.plot_tree(ax=ax, fontsize=20)\n",
    "plt.show()"
   ]
  },
  {
   "attachments": {},
   "cell_type": "markdown",
   "metadata": {
    "cell_id": "00015-cea69e08-5d82-438f-804e-422f3dfe1528",
    "deepnote_cell_height": 167,
    "deepnote_cell_type": "markdown"
   },
   "source": [
    "### Tree with `depth=2` and Positive `_lambda`\n",
    "\n",
    "As we saw in the above example, with depth 2, we can fully classify the training data. However if we add a regularization term with a high enough value of `_lambda`, we can justify pruning one of the branching nodes to get a sparser tree. In the following, we observe that as we increase `_lambda` from 0 to 0.51, one of the branching nodes gets pruned and as a result, the in-sample accuracy drops to 92%."
   ]
  },
  {
   "cell_type": "code",
   "execution_count": 17,
   "metadata": {
    "cell_id": "00016-9718d2e8-23aa-4565-b40a-373802ebc9ec",
    "deepnote_cell_height": 202,
    "deepnote_cell_type": "code",
    "deepnote_output_heights": [
     20
    ],
    "deepnote_to_be_reexecuted": false,
    "execution_millis": 205,
    "execution_start": 1664770189871,
    "source_hash": "346b639f"
   },
   "outputs": [
    {
     "name": "stdout",
     "output_type": "stream",
     "text": [
      "Set parameter Username\n",
      "Academic license - for non-commercial use only - expires 2024-06-27\n",
      "Set parameter TimeLimit to value 60\n",
      "Set parameter NodeLimit to value 1073741824\n",
      "Set parameter SolutionLimit to value 1073741824\n",
      "Set parameter IntFeasTol to value 1e-06\n",
      "Set parameter Method to value 3\n",
      "Gurobi Optimizer version 10.0.2 build v10.0.2rc0 (mac64[arm])\n",
      "\n",
      "CPU model: Apple M1 Pro\n",
      "Thread count: 8 physical cores, 8 logical processors, using up to 8 threads\n",
      "\n",
      "Optimize a model with 274 rows, 209 columns and 642 nonzeros\n",
      "Model fingerprint: 0x3e3f455b\n",
      "Variable types: 196 continuous, 13 integer (13 binary)\n",
      "Coefficient statistics:\n",
      "  Matrix range     [1e+00, 1e+00]\n",
      "  Objective range  [5e-01, 5e-01]\n",
      "  Bounds range     [1e+00, 1e+00]\n",
      "  RHS range        [1e+00, 1e+00]\n",
      "Found heuristic solution: objective -0.0000000\n",
      "Presolve removed 250 rows and 187 columns\n",
      "Presolve time: 0.00s\n",
      "Presolved: 24 rows, 22 columns, 76 nonzeros\n",
      "Found heuristic solution: objective 3.9200000\n",
      "Variable types: 16 continuous, 6 integer (6 binary)\n",
      "\n",
      "Root relaxation: objective 5.105000e+00, 14 iterations, 0.00 seconds (0.00 work units)\n",
      "\n",
      "    Nodes    |    Current Node    |     Objective Bounds      |     Work\n",
      " Expl Unexpl |  Obj  Depth IntInf | Incumbent    BestBd   Gap | It/Node Time\n",
      "\n",
      "     0     0    5.10500    0    2    3.92000    5.10500  30.2%     -    0s\n",
      "H    0     0                       4.8600000    5.10500  5.04%     -    0s\n",
      "\n",
      "Explored 1 nodes (14 simplex iterations) in 0.01 seconds (0.00 work units)\n",
      "Thread count was 8 (of 8 available processors)\n",
      "\n",
      "Solution count 3: 4.86 3.92 -0 \n",
      "\n",
      "Optimal solution found (tolerance 1.00e-04)\n",
      "Best objective 4.860000000000e+00, best bound 4.860000000000e+00, gap 0.0000%\n"
     ]
    },
    {
     "data": {
      "text/plain": [
       "FlowOCT(solver=gurobi,depth=2,time_limit=60,num_threads=None,verbose=False)"
      ]
     },
     "execution_count": 17,
     "metadata": {},
     "output_type": "execute_result"
    }
   ],
   "source": [
    "stcl = FlowOCT(solver=\"gurobi\", depth=2, _lambda=0.51)\n",
    "stcl.fit(X, y)"
   ]
  },
  {
   "cell_type": "code",
   "execution_count": 18,
   "metadata": {
    "cell_id": "00017-b7172e7a-d5a1-471a-9f16-51ef1e101a81",
    "deepnote_cell_height": 125,
    "deepnote_cell_type": "code",
    "deepnote_to_be_reexecuted": false,
    "execution_millis": 899,
    "execution_start": 1664770192379,
    "source_hash": "f3e73368"
   },
   "outputs": [
    {
     "name": "stdout",
     "output_type": "stream",
     "text": [
      "In-sample accuracy is 0.9230769230769231\n"
     ]
    }
   ],
   "source": [
    "predictions = stcl.predict(X)\n",
    "print(f\"In-sample accuracy is {np.sum(predictions==y)/y.shape[0]}\")"
   ]
  },
  {
   "cell_type": "code",
   "execution_count": 19,
   "metadata": {
    "allow_embed": false,
    "cell_id": "914dac0037c14b73a80834a07cc31dc5",
    "deepnote_cell_height": 534,
    "deepnote_cell_type": "code",
    "deepnote_output_heights": [
     406
    ],
    "deepnote_to_be_reexecuted": false,
    "execution_millis": 419,
    "execution_start": 1664770193471,
    "source_hash": "702243f5"
   },
   "outputs": [
    {
     "data": {
      "image/png": "[encoded data removed]",
      "text/plain": [
       "<Figure size 720x360 with 1 Axes>"
      ]
     },
     "metadata": {
      "needs_background": "light"
     },
     "output_type": "display_data"
    }
   ],
   "source": [
    "fig, ax = plt.subplots(figsize=(10, 5))\n",
    "stcl.plot_tree(ax=ax, fontsize=20)\n",
    "plt.show()"
   ]
  },
  {
   "attachments": {},
   "cell_type": "markdown",
   "metadata": {
    "cell_id": "00020-f0f1660b-8b7f-452c-99b7-0f8f23ac89ce",
    "deepnote_cell_height": 108,
    "deepnote_cell_type": "markdown"
   },
   "source": [
    "## Example 2: Different Objective Functions\n",
    "\n",
    "In the following, we have a toy example with an imbalanced data, with the positive class being the minority class."
   ]
  },
  {
   "cell_type": "code",
   "execution_count": 20,
   "metadata": {
    "cell_id": "00021-8827aefe-7e77-4cfc-a85e-7273ca7b30e5",
    "deepnote_cell_height": 454,
    "deepnote_cell_type": "code",
    "deepnote_to_be_reexecuted": false,
    "execution_millis": 0,
    "execution_start": 1665162085607,
    "source_hash": "a00d4bf4"
   },
   "outputs": [],
   "source": [
    "'''\n",
    "    X2\n",
    "    |               | \n",
    "    |               |\n",
    "    1    + - -      |    -\n",
    "    |               |   \n",
    "    |---------------|--------------\n",
    "    |               |\n",
    "    0    - - - +    |    - - -\n",
    "    |    - - - -    |\n",
    "    |______0________|_______1_______X1\n",
    "'''\n",
    "X = np.array([[0,0],[0,0],[0,0],[0,0],[0,0],[0,0],[0,0],[0,0],\n",
    "              [1,0],[1,0],[1,0],\n",
    "              [1,1],\n",
    "              [0,1],[0,1],[0,1]])\n",
    "y = np.array([0,0,0,0,0,0,0,1,\n",
    "              0,0,0,\n",
    "              0,\n",
    "              1,0,0])"
   ]
  },
  {
   "attachments": {},
   "cell_type": "markdown",
   "metadata": {
    "cell_id": "00022-f6484385-2f43-43ba-83dc-4bec33baee04",
    "deepnote_cell_height": 62,
    "deepnote_cell_type": "markdown"
   },
   "source": [
    "### Tree with classification accuracy objective"
   ]
  },
  {
   "cell_type": "code",
   "execution_count": 21,
   "metadata": {
    "cell_id": "00023-e2f878ab-966d-46dd-920e-f0de749caf1f",
    "deepnote_cell_height": 822,
    "deepnote_cell_type": "code",
    "deepnote_to_be_reexecuted": false,
    "execution_millis": 54,
    "execution_start": 1665162091305,
    "source_hash": "4a372af8"
   },
   "outputs": [
    {
     "name": "stdout",
     "output_type": "stream",
     "text": [
      "Set parameter Username\n",
      "Academic license - for non-commercial use only - expires 2024-06-27\n",
      "Set parameter TimeLimit to value 60\n",
      "Set parameter NodeLimit to value 1073741824\n",
      "Set parameter SolutionLimit to value 1073741824\n",
      "Set parameter LazyConstraints to value 1\n",
      "Set parameter IntFeasTol to value 1e-06\n",
      "Set parameter Method to value 3\n",
      "Gurobi Optimizer version 10.0.2 build v10.0.2rc0 (mac64[arm])\n",
      "\n",
      "CPU model: Apple M1 Pro\n",
      "Thread count: 8 physical cores, 8 logical processors, using up to 8 threads\n",
      "\n",
      "Optimize a model with 14 rows, 42 columns and 44 nonzeros\n",
      "Model fingerprint: 0x012b1ab9\n",
      "Variable types: 29 continuous, 13 integer (13 binary)\n",
      "Coefficient statistics:\n",
      "  Matrix range     [1e+00, 1e+00]\n",
      "  Objective range  [1e+00, 1e+00]\n",
      "  Bounds range     [1e+00, 1e+00]\n",
      "  RHS range        [1e+00, 1e+00]\n",
      "Presolve removed 4 rows and 4 columns\n",
      "Presolve time: 0.00s\n",
      "Presolved: 10 rows, 38 columns, 36 nonzeros\n",
      "Variable types: 29 continuous, 9 integer (9 binary)\n",
      "Root relaxation presolved: 10 rows, 36 columns, 46 nonzeros\n",
      "\n",
      "\n",
      "Root relaxation: objective 1.500000e+01, 2 iterations, 0.00 seconds (0.00 work units)\n",
      "\n",
      "    Nodes    |    Current Node    |     Objective Bounds      |     Work\n",
      " Expl Unexpl |  Obj  Depth IntInf | Incumbent    BestBd   Gap | It/Node Time\n",
      "\n",
      "     0     0   15.00000    0    -          -   15.00000      -     -    0s\n",
      "     0     0   14.00000    0    -          -   14.00000      -     -    0s\n",
      "     0     0   14.00000    0    -          -   14.00000      -     -    0s\n",
      "     0     0   14.00000    0    -          -   14.00000      -     -    0s\n",
      "     0     0   14.00000    0    -          -   14.00000      -     -    0s\n",
      "     0     0   14.00000    0    -          -   14.00000      -     -    0s\n",
      "     0     0   14.00000    0    6          -   14.00000      -     -    0s\n",
      "H    0     0                      13.0000000   14.00000  7.69%     -    0s\n",
      "     0     0   14.00000    0    -   13.00000   14.00000  7.69%     -    0s\n",
      "     0     0   14.00000    0    4   13.00000   14.00000  7.69%     -    0s\n",
      "     0     0   14.00000    0    6   13.00000   14.00000  7.69%     -    0s\n",
      "     0     0   13.80000    0    6   13.00000   13.80000  6.15%     -    0s\n",
      "     0     0   13.66667    0    6   13.00000   13.66667  5.13%     -    0s\n",
      "     0     0   13.66667    0    6   13.00000   13.66667  5.13%     -    0s\n",
      "     0     2   13.66667    0    6   13.00000   13.66667  5.13%     -    0s\n",
      "\n",
      "Cutting planes:\n",
      "  MIR: 3\n",
      "  Flow cover: 4\n",
      "  Lazy constraints: 24\n",
      "\n",
      "Explored 6 nodes (43 simplex iterations) in 0.02 seconds (0.00 work units)\n",
      "Thread count was 8 (of 8 available processors)\n",
      "\n",
      "Solution count 1: 13 \n",
      "\n",
      "Optimal solution found (tolerance 1.00e-04)\n",
      "Best objective 1.300000000000e+01, best bound 1.300000000000e+01, gap 0.0000%\n",
      "\n",
      "User-callback calls 221, time in user-callback 0.01 sec\n"
     ]
    },
    {
     "data": {
      "text/plain": [
       "BendersOCT(solver=gurobi,depth=2,time_limit=60,num_threads=None,verbose=False)"
      ]
     },
     "execution_count": 21,
     "metadata": {},
     "output_type": "execute_result"
    }
   ],
   "source": [
    "stcl_acc = BendersOCT(solver=\"gurobi\", depth=2, obj_mode=\"acc\")\n",
    "stcl_acc.fit(X, y)\n"
   ]
  },
  {
   "cell_type": "code",
   "execution_count": 22,
   "metadata": {},
   "outputs": [
    {
     "name": "stdout",
     "output_type": "stream",
     "text": [
      "In-sample accuracy is 0.8666666666666667\n"
     ]
    }
   ],
   "source": [
    "predictions = stcl_acc.predict(X)\n",
    "print(f\"In-sample accuracy is {np.sum(predictions==y)/y.shape[0]}\")"
   ]
  },
  {
   "cell_type": "code",
   "execution_count": 23,
   "metadata": {
    "cell_id": "09c53f1895bb455e9794f92c03c45ae6",
    "deepnote_cell_height": 367,
    "deepnote_cell_type": "code",
    "deepnote_to_be_reexecuted": false,
    "execution_millis": 4,
    "execution_start": 1665162109464,
    "source_hash": "a6f4f17",
    "tags": []
   },
   "outputs": [
    {
     "name": "stdout",
     "output_type": "stream",
     "text": [
      "#########node  1\n",
      "branch on X_0\n",
      "#########node  2\n",
      "branch on X_1\n",
      "#########node  3\n",
      "branch on X_1\n",
      "#########node  4\n",
      "leaf 0\n",
      "#########node  5\n",
      "leaf 0\n",
      "#########node  6\n",
      "leaf 0\n",
      "#########node  7\n",
      "leaf 0\n"
     ]
    }
   ],
   "source": [
    "stcl_acc.print_tree()"
   ]
  },
  {
   "cell_type": "code",
   "execution_count": 24,
   "metadata": {
    "cell_id": "00025-de161a83-c201-4c2f-9a41-b2c0051b1834",
    "deepnote_cell_height": 534,
    "deepnote_cell_type": "code",
    "deepnote_output_heights": [
     406
    ],
    "deepnote_to_be_reexecuted": false,
    "execution_millis": 611,
    "execution_start": 1665162118253,
    "source_hash": "84dfb7f3"
   },
   "outputs": [
    {
     "data": {
      "image/png": "[encoded data removed]",
      "text/plain": [
       "<Figure size 720x360 with 1 Axes>"
      ]
     },
     "metadata": {
      "needs_background": "light"
     },
     "output_type": "display_data"
    }
   ],
   "source": [
    "fig, ax = plt.subplots(figsize=(10, 5)) \n",
    "stcl_acc.plot_tree(ax=ax, fontsize=20)\n",
    "plt.show()"
   ]
  },
  {
   "attachments": {},
   "cell_type": "markdown",
   "metadata": {
    "cell_id": "00026-9028f384-3bb7-4a5a-bf50-d97ddb984dd3",
    "deepnote_cell_height": 62,
    "deepnote_cell_type": "markdown"
   },
   "source": [
    "### Tree with Balanced Classification Accuracy Objective"
   ]
  },
  {
   "cell_type": "code",
   "execution_count": 25,
   "metadata": {
    "cell_id": "00027-d4bdf0ac-d06e-4c2a-a8f1-e85669bce65a",
    "deepnote_cell_height": 840,
    "deepnote_cell_type": "code",
    "deepnote_to_be_reexecuted": false,
    "execution_millis": 41,
    "execution_start": 1665162304727,
    "source_hash": "ea7a2823"
   },
   "outputs": [
    {
     "name": "stdout",
     "output_type": "stream",
     "text": [
      "Set parameter Username\n",
      "Academic license - for non-commercial use only - expires 2024-06-27\n",
      "Set parameter TimeLimit to value 60\n",
      "Set parameter NodeLimit to value 1073741824\n",
      "Set parameter SolutionLimit to value 1073741824\n",
      "Set parameter IntFeasTol to value 1e-06\n",
      "Set parameter Method to value 3\n",
      "Gurobi Optimizer version 10.0.2 build v10.0.2rc0 (mac64[arm])\n",
      "\n",
      "CPU model: Apple M1 Pro\n",
      "Thread count: 8 physical cores, 8 logical processors, using up to 8 threads\n",
      "\n",
      "Optimize a model with 314 rows, 237 columns and 734 nonzeros\n",
      "Model fingerprint: 0x3bc6df12\n",
      "Variable types: 224 continuous, 13 integer (13 binary)\n",
      "Coefficient statistics:\n",
      "  Matrix range     [1e+00, 1e+00]\n",
      "  Objective range  [4e-02, 2e-01]\n",
      "  Bounds range     [1e+00, 1e+00]\n",
      "  RHS range        [1e+00, 1e+00]\n",
      "Found heuristic solution: objective -0.0000000\n",
      "Presolve removed 269 rows and 203 columns\n",
      "Presolve time: 0.00s\n",
      "Presolved: 45 rows, 34 columns, 134 nonzeros\n",
      "Found heuristic solution: objective 0.5000000\n",
      "Variable types: 27 continuous, 7 integer (7 binary)\n",
      "\n",
      "Root relaxation: objective 7.500000e-01, 31 iterations, 0.00 seconds (0.00 work units)\n",
      "\n",
      "    Nodes    |    Current Node    |     Objective Bounds      |     Work\n",
      " Expl Unexpl |  Obj  Depth IntInf | Incumbent    BestBd   Gap | It/Node Time\n",
      "\n",
      "     0     0    0.75000    0    1    0.50000    0.75000  50.0%     -    0s\n",
      "H    0     0                       0.5288462    0.75000  41.8%     -    0s\n",
      "H    0     0                       0.6730769    0.75000  11.4%     -    0s\n",
      "     0     0    0.67308    0    4    0.67308    0.67308  0.00%     -    0s\n",
      "\n",
      "Cutting planes:\n",
      "  MIR: 1\n",
      "  Flow cover: 1\n",
      "\n",
      "Explored 1 nodes (36 simplex iterations) in 0.00 seconds (0.00 work units)\n",
      "Thread count was 8 (of 8 available processors)\n",
      "\n",
      "Solution count 3: 0.673077 0.5 -0 \n",
      "No other solutions better than 0.673077\n",
      "\n",
      "Optimal solution found (tolerance 1.00e-04)\n",
      "Best objective 6.730769230769e-01, best bound 6.730769230769e-01, gap 0.0000%\n",
      "In-sample accuracy is 0.8\n"
     ]
    }
   ],
   "source": [
    "stcl_balance = FlowOCT(\n",
    "    solver=\"gurobi\",\n",
    "    depth=2,\n",
    "    obj_mode=\"balance\",\n",
    "    _lambda=0,\n",
    "    verbose=False,\n",
    ")\n",
    "stcl_balance.fit(X, y)\n",
    "predictions = stcl_balance.predict(X)\n",
    "print(f\"In-sample accuracy is {np.sum(predictions==y)/y.shape[0]}\")"
   ]
  },
  {
   "cell_type": "code",
   "execution_count": 26,
   "metadata": {
    "cell_id": "00029-fcfc9499-cd0f-45a2-8fbb-dd0be6e2e6b2",
    "deepnote_cell_height": 534,
    "deepnote_cell_type": "code",
    "deepnote_output_heights": [
     406
    ],
    "deepnote_to_be_reexecuted": false,
    "execution_millis": 339,
    "execution_start": 1665162313454,
    "source_hash": "172a869a"
   },
   "outputs": [
    {
     "data": {
      "image/png": "[encoded data removed]",
      "text/plain": [
       "<Figure size 720x360 with 1 Axes>"
      ]
     },
     "metadata": {
      "needs_background": "light"
     },
     "output_type": "display_data"
    }
   ],
   "source": [
    "fig, ax = plt.subplots(figsize=(10, 5)) \n",
    "stcl_balance.plot_tree(ax=ax, fontsize=20)\n",
    "plt.show()"
   ]
  },
  {
   "attachments": {},
   "cell_type": "markdown",
   "metadata": {
    "cell_id": "865b4df0febc481c969fa433a07f1bce",
    "deepnote_cell_height": 96,
    "deepnote_cell_type": "markdown",
    "tags": []
   },
   "source": [
    "As we can see, when we maximize accuracy, i.e., when `obj_mode = 'acc'`, the optimal tree is just a single node without branching, predicting the majority class for the whole dataset. But when we change the objective mode to balanced accuracy, we account for the minority class by sacrificing the overal accuracy."
   ]
  },
  {
   "attachments": {},
   "cell_type": "markdown",
   "metadata": {
    "cell_id": "00030-39a05aae-4523-463e-9663-653630a031c9",
    "deepnote_cell_height": 130,
    "deepnote_cell_type": "markdown",
    "deepnote_to_be_reexecuted": false,
    "execution_millis": 4,
    "execution_start": 1652396285618,
    "source_hash": "55e6949"
   },
   "source": [
    "## Example 3: UCI Data Example\n",
    "\n",
    "In this section, we fit a tree of depth 3 on a real world dataset called the [`balance` dataset](https://archive.ics.uci.edu/ml/datasets/Balance+Scale) from the UCI Machine Learning repository. "
   ]
  },
  {
   "cell_type": "code",
   "execution_count": 27,
   "metadata": {
    "cell_id": "ae66c5fdc7fe4dee9509176ae7738b03",
    "deepnote_cell_height": 112,
    "deepnote_cell_type": "code",
    "deepnote_to_be_reexecuted": false,
    "execution_millis": 9,
    "execution_start": 1663084101706,
    "source_hash": "459cf272",
    "tags": []
   },
   "outputs": [],
   "source": [
    "import pandas as pd\n",
    "from sklearn.model_selection import train_test_split\n",
    "from odtlearn.datasets import balance_scale_data"
   ]
  },
  {
   "cell_type": "code",
   "execution_count": 28,
   "metadata": {
    "cell_id": "e586d484fc394bd6ae9e1c9c7423ad77",
    "deepnote_cell_height": 269,
    "deepnote_cell_type": "code",
    "deepnote_output_heights": [
     null,
     77
    ],
    "deepnote_to_be_reexecuted": false,
    "execution_millis": 4,
    "execution_start": 1663084101759,
    "source_hash": "f97169ac",
    "tags": []
   },
   "outputs": [
    {
     "name": "stdout",
     "output_type": "stream",
     "text": [
      "shape(625, 21)\n"
     ]
    },
    {
     "data": {
      "text/plain": [
       "Index(['V2.1', 'V2.2', 'V2.3', 'V2.4', 'V2.5', 'V3.1', 'V3.2', 'V3.3', 'V3.4',\n",
       "       'V3.5', 'V4.1', 'V4.2', 'V4.3', 'V4.4', 'V4.5', 'V5.1', 'V5.2', 'V5.3',\n",
       "       'V5.4', 'V5.5', 'target'],\n",
       "      dtype='object')"
      ]
     },
     "execution_count": 28,
     "metadata": {},
     "output_type": "execute_result"
    }
   ],
   "source": [
    "# read data\n",
    "data = balance_scale_data()\n",
    "print(f\"shape{data.shape}\")\n",
    "data.columns"
   ]
  },
  {
   "cell_type": "code",
   "execution_count": 29,
   "metadata": {
    "cell_id": "80dbfabf721c4008b103b519b2323c01",
    "deepnote_cell_height": 148,
    "deepnote_cell_type": "code",
    "deepnote_to_be_reexecuted": false,
    "execution_millis": 0,
    "execution_start": 1663084101760,
    "source_hash": "5e03a259",
    "tags": []
   },
   "outputs": [],
   "source": [
    "y = data.pop(\"target\")\n",
    "\n",
    "X_train, X_test, y_train, y_test = train_test_split(\n",
    "    data, y, test_size=0.33, random_state=42\n",
    ")"
   ]
  },
  {
   "cell_type": "code",
   "execution_count": 30,
   "metadata": {
    "cell_id": "d4144975f0c94c40853a81dff20c53fa",
    "deepnote_cell_height": 256,
    "deepnote_cell_type": "code",
    "deepnote_output_heights": [
     20
    ],
    "deepnote_to_be_reexecuted": false,
    "execution_millis": 60948,
    "execution_start": 1663084101761,
    "source_hash": "a44a256e",
    "tags": []
   },
   "outputs": [
    {
     "name": "stdout",
     "output_type": "stream",
     "text": [
      "Set parameter Username\n",
      "Academic license - for non-commercial use only - expires 2024-06-27\n",
      "Set parameter TimeLimit to value 200\n",
      "Set parameter NodeLimit to value 1073741824\n",
      "Set parameter SolutionLimit to value 1073741824\n",
      "Set parameter LazyConstraints to value 1\n",
      "Set parameter IntFeasTol to value 1e-06\n",
      "Set parameter Method to value 3\n",
      "Gurobi Optimizer version 10.0.2 build v10.0.2rc0 (mac64[arm])\n",
      "\n",
      "CPU model: Apple M1 Pro\n",
      "Thread count: 8 physical cores, 8 logical processors, using up to 8 threads\n",
      "\n",
      "Optimize a model with 30 rows, 618 columns and 249 nonzeros\n",
      "Model fingerprint: 0xaeff5467\n",
      "Variable types: 463 continuous, 155 integer (155 binary)\n",
      "Coefficient statistics:\n",
      "  Matrix range     [1e+00, 1e+00]\n",
      "  Objective range  [1e+00, 1e+00]\n",
      "  Bounds range     [1e+00, 1e+00]\n",
      "  RHS range        [1e+00, 1e+00]\n",
      "Presolve removed 8 rows and 8 columns\n",
      "Presolve time: 0.00s\n",
      "Presolved: 22 rows, 610 columns, 233 nonzeros\n",
      "Variable types: 463 continuous, 147 integer (147 binary)\n",
      "Root relaxation presolved: 412 rows, 610 columns, 7100 nonzeros\n",
      "\n",
      "Concurrent LP optimizer: primal simplex, dual simplex, and barrier\n",
      "Showing barrier log only...\n",
      "\n",
      "Root barrier log...\n",
      "\n",
      "Ordering time: 0.00s\n",
      "\n",
      "Barrier performed 0 iterations in 0.18 seconds (0.00 work units)\n",
      "Barrier solve interrupted - model solved by another algorithm\n",
      "\n",
      "\n",
      "Solved with dual simplex\n",
      "\n",
      "Root relaxation: objective 4.180000e+02, 77 iterations, 0.01 seconds (0.00 work units)\n",
      "\n",
      "    Nodes    |    Current Node    |     Objective Bounds      |     Work\n",
      " Expl Unexpl |  Obj  Depth IntInf | Incumbent    BestBd   Gap | It/Node Time\n",
      "\n",
      "     0     0  418.00000    0    4          -  418.00000      -     -    0s\n",
      "H    0     0                     269.0000000  418.00000  55.4%     -    0s\n",
      "     0     0  418.00000    0    4  269.00000  418.00000  55.4%     -    0s\n",
      "     0     2  413.60000    0    9  269.00000  413.60000  53.8%     -    0s\n",
      "H  308   294                     272.0000000  413.60000  52.1%  75.5    1s\n",
      "H  483   460                     274.0000000  413.60000  50.9%  75.6    1s\n",
      "*  533   475              54     290.0000000  413.60000  42.6%  73.6    1s\n",
      "H 1310   970                     291.0000000  412.40000  41.7%  75.5    4s\n",
      "  1528  1113  344.00000   11    4  291.00000  412.40000  41.7%  71.8    5s\n",
      "  1568  1140  353.62500   27   27  291.00000  408.55187  40.4%  70.0   10s\n",
      "  1641  1190  354.00000   43   21  291.00000  403.00436  38.5%  82.0   15s\n",
      "H 2163  1398                     293.0000000  400.54472  36.7%  92.9   19s\n",
      "  2327  1443  399.64465   48   27  293.00000  399.64465  36.4%  92.2   20s\n",
      "* 2375  1361             111     296.0000000  399.64465  35.0%  91.6   20s\n",
      "H 3419  1561                     299.0000000  398.14472  33.2%  86.5   22s\n",
      "H 4454  1024                     312.0000000  398.14472  27.6%  85.7   23s\n",
      "  6323  1758  351.06250   59   15  312.00000  367.56601  17.8%  84.0   25s\n",
      " 12327  3931  314.50000   61    4  312.00000  345.59655  10.8%  80.1   30s\n",
      "H17827  5595                     314.0000000  338.16497  7.70%  67.8   31s\n",
      " 25506  8599  329.85714   80   15  314.00000  331.00000  5.41%  59.9   35s\n",
      "H31789  9084                     315.0000000  329.54167  4.62%  57.5   38s\n",
      " 32844  9456  324.87500   56    9  315.00000  329.05882  4.46%  57.1   40s\n",
      "H35037  8771                     316.0000000  328.02174  3.80%  56.5   40s\n",
      "H36500  6760                     318.0000000  327.50000  2.99%  56.0   41s\n",
      " 44613  6611     cutoff   67       318.00000  324.00000  1.89%  53.7   45s\n",
      " 57158  4133     cutoff   93       318.00000  321.00000  0.94%  50.0   50s\n",
      "\n",
      "Cutting planes:\n",
      "  MIR: 120\n",
      "  Flow cover: 193\n",
      "  Lazy constraints: 236\n",
      "\n",
      "Explored 70775 nodes (3292092 simplex iterations) in 54.97 seconds (141.79 work units)\n",
      "Thread count was 8 (of 8 available processors)\n",
      "\n",
      "Solution count 10: 318 316 315 ... 290\n",
      "\n",
      "Optimal solution found (tolerance 1.00e-04)\n",
      "Best objective 3.180000000000e+02, best bound 3.180000000000e+02, gap 0.0000%\n",
      "\n",
      "User-callback calls 150649, time in user-callback 1.65 sec\n"
     ]
    },
    {
     "data": {
      "text/plain": [
       "BendersOCT(solver=gurobi,depth=3,time_limit=200,num_threads=None,verbose=True)"
      ]
     },
     "execution_count": 30,
     "metadata": {},
     "output_type": "execute_result"
    }
   ],
   "source": [
    "stcl = BendersOCT(solver=\"gurobi\", depth=3, time_limit=200, obj_mode=\"acc\", verbose=True)\n",
    "\n",
    "stcl.fit(X_train, y_train)"
   ]
  },
  {
   "cell_type": "code",
   "execution_count": 31,
   "metadata": {
    "cell_id": "3d2dd737745047ee8dc047326a93975b",
    "deepnote_cell_height": 687,
    "deepnote_cell_type": "code",
    "deepnote_to_be_reexecuted": false,
    "execution_millis": 907,
    "execution_start": 1663084161863,
    "source_hash": "2f43d041",
    "tags": []
   },
   "outputs": [
    {
     "name": "stdout",
     "output_type": "stream",
     "text": [
      "#########node  1\n",
      "branch on V3.2\n",
      "#########node  2\n",
      "branch on V3.1\n",
      "#########node  3\n",
      "branch on V5.1\n",
      "#########node  4\n",
      "branch on V2.1\n",
      "#########node  5\n",
      "branch on V5.1\n",
      "#########node  6\n",
      "branch on V4.1\n",
      "#########node  7\n",
      "branch on V2.1\n",
      "#########node  8\n",
      "leaf 2\n",
      "#########node  9\n",
      "leaf 3\n",
      "#########node  10\n",
      "leaf 3\n",
      "#########node  11\n",
      "leaf 2\n",
      "#########node  12\n",
      "leaf 3\n",
      "#########node  13\n",
      "leaf 2\n",
      "#########node  14\n",
      "leaf 2\n",
      "#########node  15\n",
      "leaf 3\n"
     ]
    }
   ],
   "source": [
    "stcl.print_tree()"
   ]
  },
  {
   "cell_type": "code",
   "execution_count": 32,
   "metadata": {
    "cell_id": "2e6ec3df59ad4d34894820b67bffa4a1",
    "deepnote_cell_height": 548.234375,
    "deepnote_cell_type": "code",
    "deepnote_output_heights": [
     420.234375
    ],
    "deepnote_to_be_reexecuted": false,
    "execution_millis": 926,
    "execution_start": 1663084161864,
    "source_hash": "2b611b71",
    "tags": []
   },
   "outputs": [
    {
     "data": {
      "image/png": "[encoded data removed]",
      "text/plain": [
       "<Figure size 1440x720 with 1 Axes>"
      ]
     },
     "metadata": {
      "needs_background": "light"
     },
     "output_type": "display_data"
    }
   ],
   "source": [
    "fig, ax = plt.subplots(figsize=(20, 10))\n",
    "stcl.plot_tree(ax=ax, fontsize=20, color_dict={\"node\": None, \"leaves\": []})\n",
    "plt.show()"
   ]
  },
  {
   "cell_type": "code",
   "execution_count": 33,
   "metadata": {
    "cell_id": "bea1c5b861094c5fa731c1b08beb4bd2",
    "deepnote_cell_height": 125,
    "deepnote_cell_type": "code",
    "deepnote_to_be_reexecuted": false,
    "execution_millis": 371,
    "execution_start": 1663084162420,
    "source_hash": "73804030",
    "tags": []
   },
   "outputs": [
    {
     "name": "stdout",
     "output_type": "stream",
     "text": [
      "The out-of-sample accuracy is 0.6859903381642513\n"
     ]
    }
   ],
   "source": [
    "test_pred = stcl.predict(X_test)\n",
    "print('The out-of-sample accuracy is {}'.format(np.sum(test_pred==y_test)/y_test.shape[0]))"
   ]
  },
  {
   "attachments": {},
   "cell_type": "markdown",
   "metadata": {
    "cell_id": "2181319eebc9479299ad724c6909ad78",
    "deepnote_cell_height": 203,
    "deepnote_cell_type": "markdown",
    "tags": []
   },
   "source": [
    "## References\n",
    "* Dua, D. and Graff, C. (2019). [UCI Machine Learning Repository](http://archive.ics.uci.edu/ml). Irvine, CA: University of California, School of Information and Computer Science.\n",
    "* Aghaei, S., Gómez, A., & Vayanos, P. (2021). Strong optimal classification trees. arXiv preprint arXiv:2103.15965. https://arxiv.org/abs/2103.15965."
   ]
  }
 ],
 "metadata": {
  "deepnote": {},
  "deepnote_execution_queue": [],
  "deepnote_notebook_id": "a83b9a97-2562-44d2-acd9-6ff55c94ce73",
  "interpreter": {
   "hash": "dfaf93ad87348b32221474fd3c800e01f580d105683f49be3d64b58d8896a56c"
  },
  "kernelspec": {
   "display_name": "Python 3 (ipykernel)",
   "language": "python",
   "name": "python3"
  },
  "language_info": {
   "codemirror_mode": {
    "name": "ipython",
    "version": 3
   },
   "file_extension": ".py",
   "mimetype": "text/x-python",
   "name": "python",
   "nbconvert_exporter": "python",
   "pygments_lexer": "ipython3",
   "version": "3.9.13"
  }
 },
 "nbformat": 4,
 "nbformat_minor": 4
}
