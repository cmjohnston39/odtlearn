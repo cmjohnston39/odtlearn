{
 "cells": [
  {
   "attachments": {},
   "cell_type": "markdown",
   "id": "373fd5ec",
   "metadata": {
    "cell_id": "dc6f466fd2994dbc80cf4e4da3be362f",
    "deepnote_cell_height": 83.5,
    "deepnote_cell_type": "markdown",
    "tags": []
   },
   "source": [
    "# `RobustOCT` Examples"
   ]
  },
  {
   "attachments": {},
   "cell_type": "markdown",
   "id": "65b403f6",
   "metadata": {
    "cell_id": "00001-5aa34266-f09d-41a6-aea8-7d1b5d36257a",
    "deepnote_cell_height": 144.796875,
    "deepnote_cell_type": "markdown",
    "owner_user_id": "3c75c737-6c37-465a-aa9b-4b298c75816b"
   },
   "source": [
    "<!-- <font size=\"3.5\">We use a tailored Benders decomposition algorithm to solve this formulation:\n",
    "</font>\n",
    "\n",
    "\n",
    "<p align=\"left\">\n",
    "    <img src=\"./odtlearn/docs/_static/img/robust_algorithm.png\" alt=\"robust_algorithm\" style=\"width:500px;\"/>\n",
    "</p>  -->\n",
    "\n",
    "## Example 1: Synthetic Data Without Specified Shifts\n",
    "If costs and/or budget is not specified, then we will produce the same result as an optimal strong classification tree.\n",
    "\n",
    "As an example, say that we are given this training set:"
   ]
  },
  {
   "cell_type": "code",
   "execution_count": 27,
   "id": "22254eb6",
   "metadata": {
    "cell_id": "00002-ec1b8b46-8347-44be-88eb-d2c0ff104528",
    "deepnote_cell_height": 508,
    "deepnote_cell_type": "code",
    "deepnote_to_be_reexecuted": false,
    "execution_millis": 1198,
    "execution_start": 1664769662078,
    "source_hash": "986acf91"
   },
   "outputs": [],
   "source": [
    "import numpy as np\n",
    "import pandas as pd\n",
    "import matplotlib.pyplot as plt\n",
    "from odtlearn.robust_oct import RobustOCT\n",
    "\n",
    "\"\"\"\n",
    "    X2\n",
    "    |               |\n",
    "    |               |\n",
    "    1    + +        |    -\n",
    "    |               |   \n",
    "    |---------------|-------------\n",
    "    |               |\n",
    "    0    - - - -    |    + + +\n",
    "    |    - - -      |\n",
    "    |______0________|_______1_______X1\n",
    "\"\"\"\n",
    "X = np.array(\n",
    "    [\n",
    "        [0, 0],\n",
    "        [0, 0],\n",
    "        [0, 0],\n",
    "        [0, 0],\n",
    "        [0, 0],\n",
    "        [0, 0],\n",
    "        [0, 0],\n",
    "        [1, 0],\n",
    "        [1, 0],\n",
    "        [1, 0],\n",
    "        [1, 1],\n",
    "        [0, 1],\n",
    "        [0, 1],\n",
    "    ]\n",
    ")\n",
    "X = pd.DataFrame(X, columns=[\"X1\", \"X2\"])\n",
    "\n",
    "y = np.array([0, 0, 0, 0, 0, 0, 0, 1, 1, 1, 0, 1, 1])"
   ]
  },
  {
   "attachments": {},
   "cell_type": "markdown",
   "id": "87b66e70",
   "metadata": {
    "cell_id": "f5d869ce3ae0415ca6b86aab044f6460",
    "deepnote_cell_height": 74.796875,
    "deepnote_cell_type": "markdown",
    "owner_user_id": "2bc00ffa-8da0-4406-b26d-9986ca85f208",
    "tags": []
   },
   "source": [
    "If either `costs` or `budget` is not specified, the optimal classification tree will be produced (i.e., a tree that does not account for distribution shifts)."
   ]
  },
  {
   "cell_type": "code",
   "execution_count": 28,
   "id": "bccf620c",
   "metadata": {
    "cell_id": "00003-ba6613f0-07d0-4855-badb-8ab0fcfd487c",
    "deepnote_cell_height": 250.6875,
    "deepnote_cell_type": "code",
    "deepnote_to_be_reexecuted": false,
    "execution_millis": 565,
    "execution_start": 1664769682643,
    "scrolled": true,
    "source_hash": "7db50d93"
   },
   "outputs": [
    {
     "name": "stdout",
     "output_type": "stream",
     "text": [
      "Set parameter Username\n",
      "Academic license - for non-commercial use only - expires 2024-06-27\n",
      "Set parameter TimeLimit to value 100\n",
      "Set parameter NodeLimit to value 1073741824\n",
      "Set parameter SolutionLimit to value 1073741824\n",
      "Set parameter LazyConstraints to value 1\n",
      "Set parameter IntFeasTol to value 1e-06\n",
      "Set parameter Method to value 3\n",
      "Gurobi Optimizer version 10.0.2 build v10.0.2rc0 (mac64[arm])\n",
      "\n",
      "CPU model: Apple M1 Pro\n",
      "Thread count: 8 physical cores, 8 logical processors, using up to 8 threads\n",
      "\n",
      "Optimize a model with 7 rows, 33 columns and 20 nonzeros\n",
      "Model fingerprint: 0x78ba3dea\n",
      "Variable types: 13 continuous, 20 integer (20 binary)\n",
      "Coefficient statistics:\n",
      "  Matrix range     [1e+00, 1e+00]\n",
      "  Objective range  [2e-01, 1e+00]\n",
      "  Bounds range     [1e+00, 1e+00]\n",
      "  RHS range        [1e+00, 1e+00]\n",
      "Presolve removed 4 rows and 4 columns\n",
      "Presolve time: 0.01s\n",
      "Presolved: 3 rows, 29 columns, 12 nonzeros\n",
      "Variable types: 13 continuous, 16 integer (16 binary)\n",
      "Root relaxation presolved: 12 rows, 29 columns, 65 nonzeros\n",
      "\n",
      "\n",
      "Root relaxation: objective 1.300000e+01, 5 iterations, 0.00 seconds (0.00 work units)\n",
      "\n",
      "    Nodes    |    Current Node    |     Objective Bounds      |     Work\n",
      " Expl Unexpl |  Obj  Depth IntInf | Incumbent    BestBd   Gap | It/Node Time\n",
      "\n",
      "     0     0   13.00000    0    -          -   13.00000      -     -    0s\n",
      "     0     0   12.75000    0    -          -   12.75000      -     -    0s\n",
      "     0     0   12.75000    0    -          -   12.75000      -     -    0s\n",
      "     0     0   12.50000    0    6          -   12.50000      -     -    0s\n",
      "H    0     0                       7.2500000   12.50000  72.4%     -    0s\n",
      "H    0     0                      10.5000000   12.50000  19.0%     -    0s\n",
      "     0     0   12.38889    0    5   10.50000   12.38889  18.0%     -    0s\n",
      "     0     0   12.25000    0    7   10.50000   12.25000  16.7%     -    0s\n",
      "     0     0   12.25000    0    -   10.50000   12.25000  16.7%     -    0s\n",
      "*    0     0               0      12.2500000   12.25000  0.00%     -    0s\n",
      "\n",
      "Cutting planes:\n",
      "  Gomory: 1\n",
      "  MIR: 3\n",
      "  Lazy constraints: 44\n",
      "\n",
      "Explored 1 nodes (32 simplex iterations) in 0.06 seconds (0.00 work units)\n",
      "Thread count was 8 (of 8 available processors)\n",
      "\n",
      "Solution count 3: 12.25 10.5 7.25 \n",
      "\n",
      "Optimal solution found (tolerance 1.00e-04)\n",
      "Best objective 1.225000000000e+01, best bound 1.225000000000e+01, gap 0.0000%\n",
      "\n",
      "User-callback calls 170, time in user-callback 0.02 sec\n"
     ]
    }
   ],
   "source": [
    "from odtlearn.robust_oct import RobustOCT\n",
    " \n",
    "robust_classifier = RobustOCT(\n",
    "        solver=\"gurobi\",\n",
    "        depth = 2, \n",
    "        time_limit = 100,\n",
    "    )\n",
    "robust_classifier.fit(X, y)\n",
    "predictions = robust_classifier.predict(X)\n"
   ]
  },
  {
   "cell_type": "code",
   "execution_count": 29,
   "id": "4f7e4e06",
   "metadata": {
    "cell_id": "8504ebdbd679412689f83492cd8f7a4f",
    "deepnote_cell_height": 362.734375,
    "deepnote_cell_type": "code",
    "deepnote_to_be_reexecuted": false,
    "execution_millis": 357,
    "execution_start": 1664769689116,
    "source_hash": "a3f1115a",
    "tags": []
   },
   "outputs": [
    {
     "name": "stdout",
     "output_type": "stream",
     "text": [
      "#########node  1\n",
      "Feature:  X2 , Cutoff:  0\n",
      "#########node  2\n",
      "Feature:  X1 , Cutoff:  0\n",
      "#########node  3\n",
      "Feature:  X1 , Cutoff:  0\n",
      "#########node  4\n",
      "leaf 0\n",
      "#########node  5\n",
      "leaf 1\n",
      "#########node  6\n",
      "leaf 1\n",
      "#########node  7\n",
      "leaf 0\n"
     ]
    }
   ],
   "source": [
    "robust_classifier.print_tree()"
   ]
  },
  {
   "cell_type": "code",
   "execution_count": 30,
   "id": "95997b6a",
   "metadata": {
    "cell_id": "272908eee5d346a3b82cf3a0aa62c4e1",
    "deepnote_cell_height": 552,
    "deepnote_cell_type": "code",
    "deepnote_output_heights": [
     406
    ],
    "deepnote_to_be_reexecuted": false,
    "execution_millis": 1265,
    "execution_start": 1664769691141,
    "source_hash": "f06c109e",
    "tags": []
   },
   "outputs": [
    {
     "data": {
      "image/png": "[encoded data removed]",
      "text/plain": [
       "<Figure size 720x360 with 1 Axes>"
      ]
     },
     "metadata": {
      "needs_background": "light"
     },
     "output_type": "display_data"
    }
   ],
   "source": [
    "fig, ax = plt.subplots(figsize=(10, 5))\n",
    "robust_classifier.plot_tree()\n",
    "plt.show()"
   ]
  },
  {
   "attachments": {},
   "cell_type": "markdown",
   "id": "b73ea5f5",
   "metadata": {
    "cell_id": "00004-c066bdea-caf9-4089-9fa1-ee2e8d323ad6",
    "deepnote_cell_height": 231.984375,
    "deepnote_cell_type": "markdown"
   },
   "source": [
    "## Example 2: synthetic data with specified shifts\n",
    "\n",
    "We take the same synthetic data from Example 1, but now add distribution shifts with the following schema:\n",
    "- For 5 samples at $[0,0]$, pay a cost of 1 to perturb $X_1$ and get $[1,0]$\n",
    "- For the 1 sample at $[1,1]$, pay a cost of 1 to perturb $X_2$ to get $[1,0]$\n",
    "- All other perturbations are not allowed\n",
    "\n",
    "First, define these costs, which have the same shape and features as your input sample."
   ]
  },
  {
   "cell_type": "code",
   "execution_count": 31,
   "id": "5816b3a0",
   "metadata": {
    "cell_id": "00005-ec8f4aac-e1c1-486b-a079-6d46a8a9ef3b",
    "deepnote_cell_height": 166,
    "deepnote_cell_type": "code",
    "deepnote_to_be_reexecuted": false,
    "execution_millis": 1,
    "execution_start": 1664769701276,
    "source_hash": "92e9e3b9"
   },
   "outputs": [],
   "source": [
    "# Note: 10 is a proxy for infinite cost, as it is over the allowed budgets we will specify\n",
    "costs = np.array([[1,10],[1,10],[1,10],[1,10],[1,10],[10,10],[10,10],\n",
    "                  [10,10],[10,10],[10,10],\n",
    "                  [10,1],\n",
    "                  [10,10],[10,10]])\n",
    "costs = pd.DataFrame(costs, columns=['X1', 'X2'])"
   ]
  },
  {
   "attachments": {},
   "cell_type": "markdown",
   "id": "e7a8b62b",
   "metadata": {
    "cell_id": "00006-17d04a3f-d99a-4770-8dd8-6a188182b3cb",
    "deepnote_cell_height": 74.796875,
    "deepnote_cell_type": "markdown"
   },
   "source": [
    "<!-- When the budget is 2 (corresponding to the variable &epsilon;), we don't see a change in the tree as the non-robust tree will have worst-case accuracy 11/13 and no other tree will have a better worst-case accuracy. -->\n",
    "When the budget is 2 (corresponding to the variable &epsilon;), we don't see a change in the tree from Example 1 since for this dataset, the budget is small and thus the level of robustness is small."
   ]
  },
  {
   "cell_type": "code",
   "execution_count": 32,
   "id": "1a79ac9d",
   "metadata": {
    "cell_id": "00007-e8bcdb8a-f74b-45a4-acd3-a7cb8592fb0a",
    "deepnote_cell_height": 400,
    "deepnote_cell_type": "code",
    "deepnote_to_be_reexecuted": false,
    "execution_millis": 308,
    "execution_start": 1664769713072,
    "scrolled": true,
    "source_hash": "9face3f"
   },
   "outputs": [],
   "source": [
    "# Same data as Example 1\n",
    "X = np.array(\n",
    "    [\n",
    "        [0, 0],\n",
    "        [0, 0],\n",
    "        [0, 0],\n",
    "        [0, 0],\n",
    "        [0, 0],\n",
    "        [0, 0],\n",
    "        [0, 0],\n",
    "        [1, 0],\n",
    "        [1, 0],\n",
    "        [1, 0],\n",
    "        [1, 1],\n",
    "        [0, 1],\n",
    "        [0, 1],\n",
    "    ]\n",
    ")\n",
    "X = pd.DataFrame(X, columns=[\"X1\", \"X2\"])\n",
    "\n",
    "y = np.array([0, 0, 0, 0, 0, 0, 0, 1, 1, 1, 0, 1, 1])\n"
   ]
  },
  {
   "cell_type": "code",
   "execution_count": 33,
   "id": "326b256a",
   "metadata": {},
   "outputs": [
    {
     "name": "stdout",
     "output_type": "stream",
     "text": [
      "Set parameter Username\n",
      "Academic license - for non-commercial use only - expires 2024-06-27\n",
      "Set parameter TimeLimit to value 100\n",
      "Set parameter NodeLimit to value 1073741824\n",
      "Set parameter SolutionLimit to value 1073741824\n",
      "Set parameter LazyConstraints to value 1\n",
      "Set parameter IntFeasTol to value 1e-06\n",
      "Set parameter Method to value 3\n",
      "Gurobi Optimizer version 10.0.2 build v10.0.2rc0 (mac64[arm])\n",
      "\n",
      "CPU model: Apple M1 Pro\n",
      "Thread count: 8 physical cores, 8 logical processors, using up to 8 threads\n",
      "\n",
      "Optimize a model with 7 rows, 33 columns and 20 nonzeros\n",
      "Model fingerprint: 0x78ba3dea\n",
      "Variable types: 13 continuous, 20 integer (20 binary)\n",
      "Coefficient statistics:\n",
      "  Matrix range     [1e+00, 1e+00]\n",
      "  Objective range  [2e-01, 1e+00]\n",
      "  Bounds range     [1e+00, 1e+00]\n",
      "  RHS range        [1e+00, 1e+00]\n",
      "Presolve removed 4 rows and 4 columns\n",
      "Presolve time: 0.00s\n",
      "Presolved: 3 rows, 29 columns, 12 nonzeros\n",
      "Variable types: 13 continuous, 16 integer (16 binary)\n",
      "Root relaxation presolved: 12 rows, 29 columns, 65 nonzeros\n",
      "\n",
      "\n",
      "Root relaxation: objective 1.300000e+01, 5 iterations, 0.00 seconds (0.00 work units)\n",
      "\n",
      "    Nodes    |    Current Node    |     Objective Bounds      |     Work\n",
      " Expl Unexpl |  Obj  Depth IntInf | Incumbent    BestBd   Gap | It/Node Time\n",
      "\n",
      "     0     0   13.00000    0    -          -   13.00000      -     -    0s\n",
      "     0     0   12.75000    0    -          -   12.75000      -     -    0s\n",
      "     0     0   12.75000    0    -          -   12.75000      -     -    0s\n",
      "     0     0   12.50000    0    6          -   12.50000      -     -    0s\n",
      "H    0     0                       7.2500000   12.50000  72.4%     -    0s\n",
      "H    0     0                       8.5000000   12.50000  47.1%     -    0s\n",
      "     0     0   12.38889    0    5    8.50000   12.38889  45.8%     -    0s\n",
      "     0     0   12.27513    0   11    8.50000   12.27513  44.4%     -    0s\n",
      "     0     0   12.25000    0    9    8.50000   12.25000  44.1%     -    0s\n",
      "H    0     0                       9.2500000   12.25000  32.4%     -    0s\n",
      "H    0     0                       9.5000000   12.25000  28.9%     -    0s\n",
      "     0     0   12.25000    0    6    9.50000   12.25000  28.9%     -    0s\n",
      "     0     0   12.25000    0    -    9.50000   12.25000  28.9%     -    0s\n",
      "     0     0   12.23554    0   13    9.50000   12.23554  28.8%     -    0s\n",
      "     0     0   12.22893    0   11    9.50000   12.22893  28.7%     -    0s\n",
      "H    0     0                      10.2500000   12.22893  19.3%     -    0s\n",
      "     0     0   12.21106    0   11   10.25000   12.21106  19.1%     -    0s\n",
      "     0     0   12.19909    0   11   10.25000   12.19909  19.0%     -    0s\n",
      "     0     0   12.19909    0   11   10.25000   12.19909  19.0%     -    0s\n",
      "     0     0   12.19909    0   11   10.25000   12.19909  19.0%     -    0s\n",
      "     0     2   12.19909    0   11   10.25000   12.19909  19.0%     -    0s\n",
      "\n",
      "Cutting planes:\n",
      "  MIR: 5\n",
      "  Lazy constraints: 61\n",
      "\n",
      "Explored 21 nodes (130 simplex iterations) in 0.05 seconds (0.01 work units)\n",
      "Thread count was 8 (of 8 available processors)\n",
      "\n",
      "Solution count 5: 10.25 9.5 9.25 ... 7.25\n",
      "\n",
      "Optimal solution found (tolerance 1.00e-04)\n",
      "Best objective 1.025000000000e+01, best bound 1.025000000000e+01, gap 0.0000%\n",
      "\n",
      "User-callback calls 257, time in user-callback 0.03 sec\n"
     ]
    }
   ],
   "source": [
    "\n",
    "robust_classifier = RobustOCT(\n",
    "    solver=\"gurobi\",\n",
    "    depth=2,\n",
    "    time_limit=100\n",
    ")\n",
    "robust_classifier.fit(X, y, costs=costs, budget=2)\n",
    "predictions = robust_classifier.predict(X)"
   ]
  },
  {
   "cell_type": "code",
   "execution_count": 34,
   "id": "f92977d3",
   "metadata": {
    "cell_id": "9116a32b75b94436bfeedf91c1f77815",
    "deepnote_cell_height": 362.734375,
    "deepnote_cell_type": "code",
    "deepnote_to_be_reexecuted": false,
    "execution_millis": 2,
    "execution_start": 1664769714733,
    "source_hash": "a3f1115a",
    "tags": []
   },
   "outputs": [
    {
     "name": "stdout",
     "output_type": "stream",
     "text": [
      "#########node  1\n",
      "Feature:  X2 , Cutoff:  0\n",
      "#########node  2\n",
      "Feature:  X1 , Cutoff:  0\n",
      "#########node  3\n",
      "Feature:  X1 , Cutoff:  0\n",
      "#########node  4\n",
      "leaf 0\n",
      "#########node  5\n",
      "leaf 1\n",
      "#########node  6\n",
      "leaf 1\n",
      "#########node  7\n",
      "leaf 0\n"
     ]
    }
   ],
   "source": [
    "robust_classifier.print_tree()"
   ]
  },
  {
   "cell_type": "code",
   "execution_count": 35,
   "id": "0d6acd42",
   "metadata": {
    "cell_id": "4da674ada20e4400a2a3511f53d341b0",
    "deepnote_cell_height": 534,
    "deepnote_cell_type": "code",
    "deepnote_output_heights": [
     406
    ],
    "deepnote_to_be_reexecuted": false,
    "execution_millis": 983,
    "execution_start": 1664769715734,
    "source_hash": "fbc9df0d",
    "tags": []
   },
   "outputs": [
    {
     "data": {
      "image/png": "[encoded data removed]",
      "text/plain": [
       "<Figure size 720x360 with 1 Axes>"
      ]
     },
     "metadata": {
      "needs_background": "light"
     },
     "output_type": "display_data"
    }
   ],
   "source": [
    "fig, ax = plt.subplots(figsize=(10, 5)) \n",
    "robust_classifier.plot_tree()\n",
    "plt.show()"
   ]
  },
  {
   "attachments": {},
   "cell_type": "markdown",
   "id": "0905099c",
   "metadata": {
    "cell_id": "00008-73938505-0bb7-4f8e-a9ef-b6b4e57515e0",
    "deepnote_cell_height": 52.390625,
    "deepnote_cell_type": "markdown"
   },
   "source": [
    "<!-- <font size=\"3.5\">But when the budget is &epsilon;=5, we see a change in the tree, as we allow up to 5 points at [0,0] and [1,1] to switch to [1,0] to potentially be misclassified. With the non-robust tree, this would decrease our accuracy to 8/13 in worst-case.\n",
    "    </font>\n",
    "    \n",
    "<font size=\"3.5\">If we think it through, the expected tree will classify points at [0,1] as 1, and classify all else as 0, as the allowed perturbations will not change the assigned label, making the worst-case accuracy 10/13 (the maximum worst-case accuracy)\n",
    "    </font> -->\n",
    "\n",
    "But when the budget is increased to 5 (adding more robustness), we see a change in the tree."
   ]
  },
  {
   "cell_type": "code",
   "execution_count": 36,
   "id": "f8d8aa20",
   "metadata": {
    "cell_id": "00009-84267e8d-61ab-4b67-96a3-267ef2c17411",
    "deepnote_cell_height": 112,
    "deepnote_cell_type": "code",
    "deepnote_to_be_reexecuted": false,
    "execution_millis": 246,
    "execution_start": 1664769729224,
    "scrolled": true,
    "source_hash": "99f32af8"
   },
   "outputs": [
    {
     "name": "stdout",
     "output_type": "stream",
     "text": [
      "Set parameter Username\n",
      "Academic license - for non-commercial use only - expires 2024-06-27\n",
      "Set parameter TimeLimit to value 100\n",
      "Set parameter NodeLimit to value 1073741824\n",
      "Set parameter SolutionLimit to value 1073741824\n",
      "Set parameter LazyConstraints to value 1\n",
      "Set parameter IntFeasTol to value 1e-06\n",
      "Set parameter Method to value 3\n",
      "Gurobi Optimizer version 10.0.2 build v10.0.2rc0 (mac64[arm])\n",
      "\n",
      "CPU model: Apple M1 Pro\n",
      "Thread count: 8 physical cores, 8 logical processors, using up to 8 threads\n",
      "\n",
      "Optimize a model with 7 rows, 33 columns and 20 nonzeros\n",
      "Model fingerprint: 0x78ba3dea\n",
      "Variable types: 13 continuous, 20 integer (20 binary)\n",
      "Coefficient statistics:\n",
      "  Matrix range     [1e+00, 1e+00]\n",
      "  Objective range  [2e-01, 1e+00]\n",
      "  Bounds range     [1e+00, 1e+00]\n",
      "  RHS range        [1e+00, 1e+00]\n",
      "Presolve removed 4 rows and 4 columns\n",
      "Presolve time: 0.00s\n",
      "Presolved: 3 rows, 29 columns, 12 nonzeros\n",
      "Variable types: 13 continuous, 16 integer (16 binary)\n",
      "Root relaxation presolved: 12 rows, 29 columns, 65 nonzeros\n",
      "\n",
      "\n",
      "Root relaxation: objective 1.300000e+01, 5 iterations, 0.00 seconds (0.00 work units)\n",
      "\n",
      "    Nodes    |    Current Node    |     Objective Bounds      |     Work\n",
      " Expl Unexpl |  Obj  Depth IntInf | Incumbent    BestBd   Gap | It/Node Time\n",
      "\n",
      "     0     0   13.00000    0    -          -   13.00000      -     -    0s\n",
      "     0     0   12.75000    0    -          -   12.75000      -     -    0s\n",
      "     0     0   12.75000    0    -          -   12.75000      -     -    0s\n",
      "     0     0   12.50000    0    6          -   12.50000      -     -    0s\n",
      "H    0     0                       7.2500000   12.50000  72.4%     -    0s\n",
      "H    0     0                       8.0000000   12.50000  56.2%     -    0s\n",
      "     0     0   12.38889    0    5    8.00000   12.38889  54.9%     -    0s\n"
     ]
    },
    {
     "name": "stdout",
     "output_type": "stream",
     "text": [
      "     0     0   12.25000    0    9    8.00000   12.25000  53.1%     -    0s\n",
      "     0     0   12.25000    0    6    8.00000   12.25000  53.1%     -    0s\n",
      "     0     0   12.25000    0    -    8.00000   12.25000  53.1%     -    0s\n",
      "     0     0   12.25000    0    7    8.00000   12.25000  53.1%     -    0s\n",
      "     0     0   12.25000    0    7    8.00000   12.25000  53.1%     -    0s\n",
      "     0     2   12.25000    0    7    8.00000   12.25000  53.1%     -    0s\n",
      "*   10     5               3       9.5000000   11.25000  18.4%   6.2    0s\n",
      "\n",
      "Cutting planes:\n",
      "  MIR: 7\n",
      "  Lazy constraints: 69\n",
      "\n",
      "Explored 24 nodes (153 simplex iterations) in 0.04 seconds (0.00 work units)\n",
      "Thread count was 8 (of 8 available processors)\n",
      "\n",
      "Solution count 3: 9.5 8 7.25 \n",
      "\n",
      "Optimal solution found (tolerance 1.00e-04)\n",
      "Best objective 9.500000000000e+00, best bound 9.500000000000e+00, gap 0.0000%\n",
      "\n",
      "User-callback calls 236, time in user-callback 0.02 sec\n"
     ]
    }
   ],
   "source": [
    "robust_classifier = RobustOCT(\n",
    "    solver=\"gurobi\",\n",
    "    depth=2,\n",
    "    time_limit=100\n",
    ")\n",
    "robust_classifier.fit(X, y, costs=costs, budget=5)\n",
    "predictions = robust_classifier.predict(X)"
   ]
  },
  {
   "cell_type": "code",
   "execution_count": 37,
   "id": "66797dea",
   "metadata": {},
   "outputs": [
    {
     "name": "stdout",
     "output_type": "stream",
     "text": [
      "#########node  1\n",
      "Feature:  X2 , Cutoff:  0\n",
      "#########node  2\n",
      "leaf 0\n",
      "#########node  3\n",
      "Feature:  X1 , Cutoff:  0\n",
      "#########node  4\n",
      "pruned\n",
      "#########node  5\n",
      "pruned\n",
      "#########node  6\n",
      "leaf 1\n",
      "#########node  7\n",
      "leaf 0\n"
     ]
    }
   ],
   "source": [
    "robust_classifier.print_tree()"
   ]
  },
  {
   "cell_type": "code",
   "execution_count": 38,
   "id": "7dbda0fa",
   "metadata": {},
   "outputs": [
    {
     "data": {
      "image/png": "[encoded data removed]",
      "text/plain": [
       "<Figure size 720x360 with 1 Axes>"
      ]
     },
     "metadata": {
      "needs_background": "light"
     },
     "output_type": "display_data"
    }
   ],
   "source": [
    "fig, ax = plt.subplots(figsize=(10, 5)) \n",
    "robust_classifier.plot_tree()\n",
    "plt.show()"
   ]
  },
  {
   "attachments": {},
   "cell_type": "markdown",
   "id": "d451b6c3",
   "metadata": {
    "cell_id": "00010-a64753d8-356d-4c57-8ad0-03c7c908edf9",
    "deepnote_cell_height": 130.796875,
    "deepnote_cell_type": "markdown"
   },
   "source": [
    "## Example 3: UCI data example\n",
    "Here, we'll see the benefits of using robust optimization by perturbing the test set. We will use the MONK's Problems dataset from the UCI Machine Learning Repository.\n",
    "\n",
    "\n"
   ]
  },
  {
   "cell_type": "code",
   "execution_count": 39,
   "id": "d670f9e1",
   "metadata": {
    "cell_id": "00011-e6a08559-7fd6-4a5b-94d9-b9390eeccd3e",
    "deepnote_cell_height": 76,
    "deepnote_cell_type": "code",
    "deepnote_to_be_reexecuted": false,
    "execution_millis": 1,
    "execution_start": 1664769742991,
    "source_hash": "746a4dbc"
   },
   "outputs": [],
   "source": [
    "from sklearn.model_selection import train_test_split\n",
    "from odtlearn.datasets import robust_example"
   ]
  },
  {
   "attachments": {},
   "cell_type": "markdown",
   "id": "d8632b13",
   "metadata": {
    "cell_id": "41f21d35d18f40339ee6a1475ca5b04d",
    "deepnote_cell_height": 52.390625,
    "deepnote_cell_type": "markdown",
    "tags": []
   },
   "source": [
    "Fetch data and split to train and test"
   ]
  },
  {
   "cell_type": "code",
   "execution_count": 40,
   "id": "44b9d106",
   "metadata": {
    "cell_id": "00012-ca63f712-e49e-423a-97e6-ef5b95341980",
    "deepnote_cell_height": 268.6875,
    "deepnote_cell_type": "code",
    "deepnote_to_be_reexecuted": false,
    "execution_millis": 508,
    "execution_start": 1664769746611,
    "scrolled": true,
    "source_hash": "6f3fb272"
   },
   "outputs": [],
   "source": [
    "\"\"\"Fetch data and split to train and test\"\"\"\n",
    "data, y = robust_example()\n",
    "\n",
    "X_train, X_test, y_train, y_test = train_test_split(\n",
    "    data, y, test_size=0.25, random_state=2\n",
    ")"
   ]
  },
  {
   "attachments": {},
   "cell_type": "markdown",
   "id": "cc714a7c",
   "metadata": {
    "cell_id": "00013-6684517e-c0ae-464f-8632-05eacb7895eb",
    "deepnote_cell_height": 52.390625,
    "deepnote_cell_type": "markdown"
   },
   "source": [
    "For sake of comparison, train a classification tree that does not consider the scenario where there is a distribution shift:"
   ]
  },
  {
   "cell_type": "code",
   "execution_count": 41,
   "id": "bdf7635f",
   "metadata": {
    "cell_id": "00014-6bf44759-2856-4316-81b4-1f9491d09c83",
    "deepnote_cell_height": 950.1875,
    "deepnote_cell_type": "code",
    "deepnote_output_heights": [
     null,
     20.1875
    ],
    "deepnote_to_be_reexecuted": false,
    "execution_millis": 17487,
    "execution_start": 1664769775115,
    "scrolled": true,
    "source_hash": "ec914ba0"
   },
   "outputs": [
    {
     "name": "stdout",
     "output_type": "stream",
     "text": [
      "Set parameter Username\n",
      "Academic license - for non-commercial use only - expires 2024-06-27\n",
      "Set parameter TimeLimit to value 300\n",
      "Set parameter NodeLimit to value 1073741824\n",
      "Set parameter SolutionLimit to value 1073741824\n",
      "Set parameter LazyConstraints to value 1\n",
      "Set parameter IntFeasTol to value 1e-06\n",
      "Set parameter Method to value 3\n",
      "Gurobi Optimizer version 10.0.2 build v10.0.2rc0 (mac64[arm])\n",
      "\n",
      "CPU model: Apple M1 Pro\n",
      "Thread count: 8 physical cores, 8 logical processors, using up to 8 threads\n",
      "\n",
      "Optimize a model with 7 rows, 173 columns and 47 nonzeros\n",
      "Model fingerprint: 0xafd32360\n",
      "Variable types: 126 continuous, 47 integer (47 binary)\n",
      "Coefficient statistics:\n",
      "  Matrix range     [1e+00, 1e+00]\n",
      "  Objective range  [2e-01, 1e+00]\n",
      "  Bounds range     [1e+00, 1e+00]\n",
      "  RHS range        [1e+00, 1e+00]\n",
      "Presolve removed 4 rows and 4 columns\n",
      "Presolve time: 0.00s\n",
      "Presolved: 3 rows, 169 columns, 39 nonzeros\n",
      "Variable types: 126 continuous, 43 integer (43 binary)\n",
      "Root relaxation presolved: 82 rows, 169 columns, 1072 nonzeros\n",
      "\n",
      "\n",
      "Root relaxation: objective 1.260000e+02, 5 iterations, 0.00 seconds (0.00 work units)\n",
      "\n",
      "    Nodes    |    Current Node    |     Objective Bounds      |     Work\n",
      " Expl Unexpl |  Obj  Depth IntInf | Incumbent    BestBd   Gap | It/Node Time\n",
      "\n",
      "     0     0  126.00000    0    -          -  126.00000      -     -    0s\n",
      "     0     0  125.75000    0    -          -  125.75000      -     -    0s\n",
      "     0     0  125.75000    0    7          -  125.75000      -     -    0s\n",
      "H    0     0                      77.2500000  125.75000  62.8%     -    0s\n",
      "H    0     0                      78.0000000  125.75000  61.2%     -    0s\n",
      "     0     0  125.55000    0   13   78.00000  125.55000  61.0%     -    0s\n",
      "     0     0  125.54167    0   14   78.00000  125.54167  61.0%     -    0s\n",
      "     0     2  125.53640    0   23   78.00000  125.53640  60.9%     -    0s\n",
      "*  206   151              16      81.5000000  124.91667  53.3%  30.9    0s\n",
      "*  934   451               8      82.2500000  112.02237  36.2%  26.9    1s\n",
      "* 2715   519              15      83.2500000   95.50000  14.7%  21.4    1s\n",
      "\n",
      "Cutting planes:\n",
      "  MIR: 6\n",
      "  Lazy constraints: 994\n",
      "\n",
      "Explored 3627 nodes (70039 simplex iterations) in 1.70 seconds (1.53 work units)\n",
      "Thread count was 8 (of 8 available processors)\n",
      "\n",
      "Solution count 5: 83.25 82.25 81.5 ... 77.25\n",
      "\n",
      "Optimal solution found (tolerance 1.00e-04)\n",
      "Best objective 8.325000000000e+01, best bound 8.325000000000e+01, gap 0.0000%\n",
      "\n",
      "User-callback calls 7707, time in user-callback 0.94 sec\n"
     ]
    },
    {
     "data": {
      "text/plain": [
       "RobustOCT(solver=gurobi,depth=2,time_limit=300,num_threads=None,verbose=False)"
      ]
     },
     "execution_count": 41,
     "metadata": {},
     "output_type": "execute_result"
    }
   ],
   "source": [
    "\"\"\"Train a non-robust tree for comparison\"\"\"\n",
    "from odtlearn.robust_oct import RobustOCT\n",
    "\n",
    "# If you define no uncertainty, you get an optimal tree without regularization that maximizes accuracy\n",
    "non_robust_classifier = RobustOCT(solver=\"gurobi\", depth=2, time_limit=300)\n",
    "non_robust_classifier.fit(X_train, y_train)"
   ]
  },
  {
   "cell_type": "markdown",
   "id": "dc499753",
   "metadata": {},
   "source": []
  },
  {
   "cell_type": "code",
   "execution_count": 42,
   "id": "885385b9",
   "metadata": {
    "cell_id": "cede983182b840ca830bf41e836d1abb",
    "deepnote_cell_height": 362.734375,
    "deepnote_cell_type": "code",
    "deepnote_to_be_reexecuted": false,
    "execution_millis": 680,
    "execution_start": 1664769792015,
    "source_hash": "388e377f",
    "tags": []
   },
   "outputs": [
    {
     "name": "stdout",
     "output_type": "stream",
     "text": [
      "#########node  1\n",
      "Feature:  Feat5 , Cutoff:  1\n",
      "#########node  2\n",
      "Feature:  Feat3 , Cutoff:  2\n",
      "#########node  3\n",
      "Feature:  Feat2 , Cutoff:  1\n",
      "#########node  4\n",
      "leaf 0\n",
      "#########node  5\n",
      "leaf 1\n",
      "#########node  6\n",
      "leaf 1\n",
      "#########node  7\n",
      "leaf 0\n"
     ]
    }
   ],
   "source": [
    "non_robust_classifier.print_tree()"
   ]
  },
  {
   "cell_type": "code",
   "execution_count": 43,
   "id": "f122efea",
   "metadata": {
    "cell_id": "d2858316c41d4fa0b972e1dd756b0fd1",
    "deepnote_cell_height": 534,
    "deepnote_cell_type": "code",
    "deepnote_output_heights": [
     406
    ],
    "deepnote_to_be_reexecuted": false,
    "execution_millis": 747,
    "execution_start": 1664769792016,
    "source_hash": "3d490653",
    "tags": []
   },
   "outputs": [
    {
     "data": {
      "image/png": "[encoded data removed]",
      "text/plain": [
       "<Figure size 720x360 with 1 Axes>"
      ]
     },
     "metadata": {
      "needs_background": "light"
     },
     "output_type": "display_data"
    }
   ],
   "source": [
    "fig, ax = plt.subplots(figsize=(10, 5)) \n",
    "non_robust_classifier.plot_tree()\n",
    "plt.show()"
   ]
  },
  {
   "attachments": {},
   "cell_type": "markdown",
   "id": "77bf18eb",
   "metadata": {
    "cell_id": "00015-511ab703-4b9f-4c99-8b26-95f27e2ee80e",
    "deepnote_cell_height": 97.1875,
    "deepnote_cell_type": "markdown"
   },
   "source": [
    "Train a robust tree. First, define the uncertainty. Here, we will generate a probability of certainty for each feature randomly (in practice, you would need to use some guess from domain knowledge). For simplicity, we will not change this probability by data sample $i$. We also define $\\lambda = 0.9$, which in practice must be tuned.\n"
   ]
  },
  {
   "cell_type": "code",
   "execution_count": 44,
   "id": "b641c408",
   "metadata": {
    "cell_id": "00016-14b459f8-9786-4b71-9007-d9a68d7c69aa",
    "deepnote_cell_height": 257.390625,
    "deepnote_cell_type": "code",
    "deepnote_output_heights": [
     39.390625
    ],
    "deepnote_to_be_reexecuted": false,
    "execution_millis": 680,
    "execution_start": 1664769798155,
    "scrolled": true,
    "source_hash": "5f369a82"
   },
   "outputs": [
    {
     "data": {
      "text/plain": [
       "array([0.94967142, 0.88617357, 0.96476885, 1.        , 0.87658466,\n",
       "       0.8765863 ])"
      ]
     },
     "execution_count": 44,
     "metadata": {},
     "output_type": "execute_result"
    }
   ],
   "source": [
    "\"\"\"Generate q_f values for each feature (i.e. probability of certainty for feature f)\"\"\"\n",
    "np.random.seed(42)\n",
    "q_f = np.random.normal(loc=0.9, scale=0.1, size=len(X_train.columns))\n",
    "# Snap q_f to range [0,1]\n",
    "q_f[q_f <= 0] = np.nextafter(np.float32(0), np.float32(1))\n",
    "q_f[q_f > 1] = 1.0\n",
    "\n",
    "q_f"
   ]
  },
  {
   "attachments": {},
   "cell_type": "markdown",
   "id": "d8118dcd",
   "metadata": {
    "cell_id": "00017-e2c44d63-a2a7-40c3-873b-173219fa4020",
    "deepnote_cell_height": 52.390625,
    "deepnote_cell_type": "markdown"
   },
   "source": [
    "Calibrate the `costs` and `budget` parameters for the `fit` function."
   ]
  },
  {
   "cell_type": "code",
   "execution_count": 45,
   "id": "7a563a91",
   "metadata": {
    "cell_id": "00018-8348cb86-a857-4d9d-a5ee-44cda4446659",
    "deepnote_cell_height": 184.1875,
    "deepnote_cell_type": "code",
    "deepnote_output_heights": [
     20.1875
    ],
    "deepnote_to_be_reexecuted": false,
    "execution_millis": 334,
    "execution_start": 1664769801529,
    "source_hash": "8febf87c"
   },
   "outputs": [
    {
     "data": {
      "text/plain": [
       "13.275424972886112"
      ]
     },
     "execution_count": 45,
     "metadata": {},
     "output_type": "execute_result"
    }
   ],
   "source": [
    "\"\"\"Define budget of uncertainty\"\"\"\n",
    "from math import log\n",
    "\n",
    "l = 0.9  # Lambda value between 0 and 1\n",
    "budget = -1 * X_train.shape[0] * log(l)\n",
    "budget"
   ]
  },
  {
   "cell_type": "code",
   "execution_count": 46,
   "id": "68ef855d",
   "metadata": {
    "cell_id": "00019-a1add7b6-8e21-46a1-87b6-e6a2d74ef071",
    "deepnote_cell_height": 793,
    "deepnote_cell_type": "code",
    "deepnote_to_be_reexecuted": false,
    "execution_millis": 28,
    "execution_start": 1664769805562,
    "scrolled": true,
    "source_hash": "7f3949b"
   },
   "outputs": [
    {
     "data": {
      "text/html": [
       "<div>\n",
       "<style scoped>\n",
       "    .dataframe tbody tr th:only-of-type {\n",
       "        vertical-align: middle;\n",
       "    }\n",
       "\n",
       "    .dataframe tbody tr th {\n",
       "        vertical-align: top;\n",
       "    }\n",
       "\n",
       "    .dataframe thead th {\n",
       "        text-align: right;\n",
       "    }\n",
       "</style>\n",
       "<table border=\"1\" class=\"dataframe\">\n",
       "  <thead>\n",
       "    <tr style=\"text-align: right;\">\n",
       "      <th></th>\n",
       "      <th>Feat0</th>\n",
       "      <th>Feat1</th>\n",
       "      <th>Feat2</th>\n",
       "      <th>Feat3</th>\n",
       "      <th>Feat4</th>\n",
       "      <th>Feat5</th>\n",
       "    </tr>\n",
       "  </thead>\n",
       "  <tbody>\n",
       "    <tr>\n",
       "      <th>0</th>\n",
       "      <td>2.989182</td>\n",
       "      <td>2.173081</td>\n",
       "      <td>3.345825</td>\n",
       "      <td>14.275425</td>\n",
       "      <td>2.0922</td>\n",
       "      <td>2.092213</td>\n",
       "    </tr>\n",
       "    <tr>\n",
       "      <th>1</th>\n",
       "      <td>2.989182</td>\n",
       "      <td>2.173081</td>\n",
       "      <td>3.345825</td>\n",
       "      <td>14.275425</td>\n",
       "      <td>2.0922</td>\n",
       "      <td>2.092213</td>\n",
       "    </tr>\n",
       "    <tr>\n",
       "      <th>2</th>\n",
       "      <td>2.989182</td>\n",
       "      <td>2.173081</td>\n",
       "      <td>3.345825</td>\n",
       "      <td>14.275425</td>\n",
       "      <td>2.0922</td>\n",
       "      <td>2.092213</td>\n",
       "    </tr>\n",
       "    <tr>\n",
       "      <th>3</th>\n",
       "      <td>2.989182</td>\n",
       "      <td>2.173081</td>\n",
       "      <td>3.345825</td>\n",
       "      <td>14.275425</td>\n",
       "      <td>2.0922</td>\n",
       "      <td>2.092213</td>\n",
       "    </tr>\n",
       "    <tr>\n",
       "      <th>4</th>\n",
       "      <td>2.989182</td>\n",
       "      <td>2.173081</td>\n",
       "      <td>3.345825</td>\n",
       "      <td>14.275425</td>\n",
       "      <td>2.0922</td>\n",
       "      <td>2.092213</td>\n",
       "    </tr>\n",
       "    <tr>\n",
       "      <th>...</th>\n",
       "      <td>...</td>\n",
       "      <td>...</td>\n",
       "      <td>...</td>\n",
       "      <td>...</td>\n",
       "      <td>...</td>\n",
       "      <td>...</td>\n",
       "    </tr>\n",
       "    <tr>\n",
       "      <th>121</th>\n",
       "      <td>2.989182</td>\n",
       "      <td>2.173081</td>\n",
       "      <td>3.345825</td>\n",
       "      <td>14.275425</td>\n",
       "      <td>2.0922</td>\n",
       "      <td>2.092213</td>\n",
       "    </tr>\n",
       "    <tr>\n",
       "      <th>122</th>\n",
       "      <td>2.989182</td>\n",
       "      <td>2.173081</td>\n",
       "      <td>3.345825</td>\n",
       "      <td>14.275425</td>\n",
       "      <td>2.0922</td>\n",
       "      <td>2.092213</td>\n",
       "    </tr>\n",
       "    <tr>\n",
       "      <th>123</th>\n",
       "      <td>2.989182</td>\n",
       "      <td>2.173081</td>\n",
       "      <td>3.345825</td>\n",
       "      <td>14.275425</td>\n",
       "      <td>2.0922</td>\n",
       "      <td>2.092213</td>\n",
       "    </tr>\n",
       "    <tr>\n",
       "      <th>124</th>\n",
       "      <td>2.989182</td>\n",
       "      <td>2.173081</td>\n",
       "      <td>3.345825</td>\n",
       "      <td>14.275425</td>\n",
       "      <td>2.0922</td>\n",
       "      <td>2.092213</td>\n",
       "    </tr>\n",
       "    <tr>\n",
       "      <th>125</th>\n",
       "      <td>2.989182</td>\n",
       "      <td>2.173081</td>\n",
       "      <td>3.345825</td>\n",
       "      <td>14.275425</td>\n",
       "      <td>2.0922</td>\n",
       "      <td>2.092213</td>\n",
       "    </tr>\n",
       "  </tbody>\n",
       "</table>\n",
       "<p>126 rows × 6 columns</p>\n",
       "</div>"
      ],
      "text/plain": [
       "        Feat0     Feat1     Feat2      Feat3   Feat4     Feat5\n",
       "0    2.989182  2.173081  3.345825  14.275425  2.0922  2.092213\n",
       "1    2.989182  2.173081  3.345825  14.275425  2.0922  2.092213\n",
       "2    2.989182  2.173081  3.345825  14.275425  2.0922  2.092213\n",
       "3    2.989182  2.173081  3.345825  14.275425  2.0922  2.092213\n",
       "4    2.989182  2.173081  3.345825  14.275425  2.0922  2.092213\n",
       "..        ...       ...       ...        ...     ...       ...\n",
       "121  2.989182  2.173081  3.345825  14.275425  2.0922  2.092213\n",
       "122  2.989182  2.173081  3.345825  14.275425  2.0922  2.092213\n",
       "123  2.989182  2.173081  3.345825  14.275425  2.0922  2.092213\n",
       "124  2.989182  2.173081  3.345825  14.275425  2.0922  2.092213\n",
       "125  2.989182  2.173081  3.345825  14.275425  2.0922  2.092213\n",
       "\n",
       "[126 rows x 6 columns]"
      ]
     },
     "execution_count": 46,
     "metadata": {},
     "output_type": "execute_result"
    }
   ],
   "source": [
    "\"\"\"Based on q_f values, create costs of uncertainty\"\"\"\n",
    "from copy import deepcopy\n",
    "\n",
    "costs = deepcopy(X_train)\n",
    "costs = costs.astype(\"float\")\n",
    "for f in range(len(q_f)):\n",
    "    if q_f[f] == 1:\n",
    "        costs[costs.columns[f]] = budget + 1  # no uncertainty = \"infinite\" cost\n",
    "    else:\n",
    "        costs[costs.columns[f]] = -1 * log(1 - q_f[f])\n",
    "\n",
    "costs"
   ]
  },
  {
   "attachments": {},
   "cell_type": "markdown",
   "id": "873b1077",
   "metadata": {
    "cell_id": "873b53227f2847c48fd956daa42241d6",
    "deepnote_cell_height": 52.390625,
    "deepnote_cell_type": "markdown",
    "tags": []
   },
   "source": [
    "Train the robust tree using the costs and budget."
   ]
  },
  {
   "cell_type": "code",
   "execution_count": 47,
   "id": "8dc237ab",
   "metadata": {
    "cell_id": "00020-17db6a05-404c-4fb0-9b35-d58abc3aa541",
    "deepnote_cell_height": 184.1875,
    "deepnote_cell_type": "code",
    "deepnote_output_heights": [
     20.1875
    ],
    "deepnote_to_be_reexecuted": false,
    "execution_millis": 115497,
    "execution_start": 1664769815612,
    "scrolled": true,
    "source_hash": "ae6f9fa2"
   },
   "outputs": [
    {
     "name": "stdout",
     "output_type": "stream",
     "text": [
      "Set parameter Username\n",
      "Academic license - for non-commercial use only - expires 2024-06-27\n",
      "Set parameter TimeLimit to value 200\n",
      "Set parameter NodeLimit to value 1073741824\n",
      "Set parameter SolutionLimit to value 1073741824\n",
      "Set parameter LazyConstraints to value 1\n",
      "Set parameter IntFeasTol to value 1e-06\n",
      "Set parameter Method to value 3\n",
      "Gurobi Optimizer version 10.0.2 build v10.0.2rc0 (mac64[arm])\n",
      "\n",
      "CPU model: Apple M1 Pro\n",
      "Thread count: 8 physical cores, 8 logical processors, using up to 8 threads\n",
      "\n",
      "Optimize a model with 7 rows, 173 columns and 47 nonzeros\n",
      "Model fingerprint: 0xafd32360\n",
      "Variable types: 126 continuous, 47 integer (47 binary)\n",
      "Coefficient statistics:\n",
      "  Matrix range     [1e+00, 1e+00]\n",
      "  Objective range  [2e-01, 1e+00]\n",
      "  Bounds range     [1e+00, 1e+00]\n",
      "  RHS range        [1e+00, 1e+00]\n",
      "Presolve removed 4 rows and 4 columns\n",
      "Presolve time: 0.00s\n",
      "Presolved: 3 rows, 169 columns, 39 nonzeros\n",
      "Variable types: 126 continuous, 43 integer (43 binary)\n"
     ]
    },
    {
     "name": "stdout",
     "output_type": "stream",
     "text": [
      "Root relaxation presolved: 82 rows, 169 columns, 1072 nonzeros\n",
      "\n",
      "\n",
      "Root relaxation: objective 1.260000e+02, 5 iterations, 0.00 seconds (0.00 work units)\n",
      "\n",
      "    Nodes    |    Current Node    |     Objective Bounds      |     Work\n",
      " Expl Unexpl |  Obj  Depth IntInf | Incumbent    BestBd   Gap | It/Node Time\n",
      "\n",
      "     0     0  126.00000    0    -          -  126.00000      -     -    0s\n",
      "     0     0  125.75000    0    -          -  125.75000      -     -    0s\n",
      "     0     0  125.75000    0    7          -  125.75000      -     -    0s\n",
      "H    0     0                      77.2500000  125.75000  62.8%     -    0s\n",
      "H    0     0                      78.0000000  125.75000  61.2%     -    0s\n",
      "     0     0  125.55000    0   13   78.00000  125.55000  61.0%     -    0s\n",
      "     0     0  125.54167    0   14   78.00000  125.54167  61.0%     -    0s\n",
      "     0     2  125.53640    0   23   78.00000  125.53640  60.9%     -    0s\n",
      "*  472   333              14      78.5000000  122.24074  55.7%  29.0    1s\n",
      "* 2519   887              14      79.5000000   99.00000  24.5%  20.5    3s\n",
      "  3648   758   85.00000   20    2   79.50000   90.91667  14.4%  19.2    5s\n",
      "\n",
      "Cutting planes:\n",
      "  MIR: 6\n",
      "  Lazy constraints: 1319\n",
      "\n",
      "Explored 5135 nodes (84698 simplex iterations) in 8.19 seconds (3.26 work units)\n",
      "Thread count was 8 (of 8 available processors)\n",
      "\n",
      "Solution count 4: 79.5 78.5 78 77.25 \n",
      "\n",
      "Optimal solution found (tolerance 1.00e-04)\n",
      "Best objective 7.950000000000e+01, best bound 7.950000000000e+01, gap 0.0000%\n",
      "\n",
      "User-callback calls 11149, time in user-callback 6.77 sec\n"
     ]
    },
    {
     "data": {
      "text/plain": [
       "RobustOCT(solver=gurobi,depth=2,time_limit=200,num_threads=None,verbose=False)"
      ]
     },
     "execution_count": 47,
     "metadata": {},
     "output_type": "execute_result"
    }
   ],
   "source": [
    "robust_classifier = RobustOCT(\n",
    "    solver=\"gurobi\",\n",
    "    depth=2,\n",
    "    time_limit=200,\n",
    ")\n",
    "robust_classifier.fit(X_train, y_train, costs=costs, budget=budget)"
   ]
  },
  {
   "cell_type": "code",
   "execution_count": 48,
   "id": "5ee04af2",
   "metadata": {
    "cell_id": "6ea60076b5ff4d4db35fef0d61992e3c",
    "deepnote_cell_height": 362.734375,
    "deepnote_cell_type": "code",
    "deepnote_to_be_reexecuted": false,
    "execution_millis": 2,
    "execution_start": 1664769931108,
    "source_hash": "a3f1115a",
    "tags": []
   },
   "outputs": [
    {
     "name": "stdout",
     "output_type": "stream",
     "text": [
      "#########node  1\n",
      "Feature:  Feat3 , Cutoff:  2\n",
      "#########node  2\n",
      "leaf 0\n",
      "#########node  3\n",
      "Feature:  Feat2 , Cutoff:  1\n",
      "#########node  4\n",
      "pruned\n",
      "#########node  5\n",
      "pruned\n",
      "#########node  6\n",
      "leaf 1\n",
      "#########node  7\n",
      "leaf 0\n"
     ]
    }
   ],
   "source": [
    "robust_classifier.print_tree()"
   ]
  },
  {
   "cell_type": "code",
   "execution_count": 49,
   "id": "986d5b8f",
   "metadata": {
    "cell_id": "02b308f6ab99429d8ffe4d3f4ae0ada7",
    "deepnote_cell_height": 534,
    "deepnote_cell_type": "code",
    "deepnote_output_heights": [
     406
    ],
    "deepnote_to_be_reexecuted": false,
    "execution_millis": 389,
    "execution_start": 1664769931109,
    "source_hash": "fbc9df0d",
    "tags": []
   },
   "outputs": [
    {
     "data": {
      "image/png": "[encoded data removed]",
      "text/plain": [
       "<Figure size 720x360 with 1 Axes>"
      ]
     },
     "metadata": {
      "needs_background": "light"
     },
     "output_type": "display_data"
    }
   ],
   "source": [
    "fig, ax = plt.subplots(figsize=(10, 5))\n",
    "robust_classifier.plot_tree()\n",
    "plt.show()"
   ]
  },
  {
   "cell_type": "code",
   "execution_count": 50,
   "id": "cf5d1de9",
   "metadata": {
    "cell_id": "00021-3cc7fda4-c89b-43f7-bbf4-7e6ca8a7298e",
    "deepnote_cell_height": 260.78125,
    "deepnote_cell_type": "code",
    "deepnote_to_be_reexecuted": false,
    "execution_millis": 7,
    "execution_start": 1664769931564,
    "source_hash": "e4bb380a"
   },
   "outputs": [
    {
     "name": "stdout",
     "output_type": "stream",
     "text": [
      "Non-robust training accuracy:  0.6666666666666666\n",
      "Robust training accuracy:      0.6587301587301587\n",
      "Non-robust test accuracy:      0.5813953488372093\n",
      "Robust test accuracy:          0.5581395348837209\n"
     ]
    }
   ],
   "source": [
    "from sklearn.metrics import accuracy_score\n",
    "\n",
    "print(\n",
    "    \"Non-robust training accuracy: \",\n",
    "    accuracy_score(y_train, non_robust_classifier.predict(X_train)),\n",
    ")\n",
    "print(\n",
    "    \"Robust training accuracy:     \",\n",
    "    accuracy_score(y_train, robust_classifier.predict(X_train)),\n",
    ")\n",
    "print(\n",
    "    \"Non-robust test accuracy:     \",\n",
    "    accuracy_score(y_test, non_robust_classifier.predict(X_test)),\n",
    ")\n",
    "print(\n",
    "    \"Robust test accuracy:         \",\n",
    "    accuracy_score(y_test, robust_classifier.predict(X_test)),\n",
    ")"
   ]
  },
  {
   "attachments": {},
   "cell_type": "markdown",
   "id": "10f24f30",
   "metadata": {
    "cell_id": "00022-17f6f113-6d42-41de-97a4-425263e19c21",
    "deepnote_cell_height": 74.796875,
    "deepnote_cell_type": "markdown"
   },
   "source": [
    "To measure the performance of the trained models, perturb the test data based off of our known certainties of each feature (to simulate a distribtion shift), and then see how well each tree performs against the perturbed data\n"
   ]
  },
  {
   "cell_type": "code",
   "execution_count": 51,
   "id": "785bec50",
   "metadata": {
    "cell_id": "00023-6873bd0d-ac31-4d00-9fd8-74d79f46f931",
    "deepnote_cell_height": 454,
    "deepnote_cell_type": "code",
    "deepnote_to_be_reexecuted": false,
    "execution_millis": 5400,
    "execution_start": 1664769931576,
    "source_hash": "fa02f8dd"
   },
   "outputs": [],
   "source": [
    "def perturb(data, q_f, seed):\n",
    "    \"\"\"Perturb X given q_f based off of the symmetric geometric distribution\"\"\"\n",
    "    new_data = deepcopy(data)\n",
    "    np.random.seed(seed)\n",
    "    # Perturbation of features\n",
    "    for f in range(len(new_data.columns)):\n",
    "        perturbations = np.random.geometric(q_f[f], size=new_data.shape[0])\n",
    "        perturbations = perturbations - 1  # Support should be 0,1,2,...\n",
    "        signs = (2 * np.random.binomial(1, 0.5, size=new_data.shape[0])) - 1\n",
    "        perturbations = perturbations * signs\n",
    "        new_data[new_data.columns[f]] = new_data[new_data.columns[f]] + perturbations\n",
    "    return new_data\n",
    "\n",
    "\n",
    "\"\"\"Obtain 1000 different perturbed test sets, and record accuracies\"\"\"\n",
    "non_robust_acc = []\n",
    "robust_acc = []\n",
    "for s in range(1, 1001):\n",
    "    X_test_perturbed = perturb(X_test, q_f, s)\n",
    "    non_robust_pred = non_robust_classifier.predict(X_test_perturbed)\n",
    "    robust_pred = robust_classifier.predict(X_test_perturbed)\n",
    "    non_robust_acc += [accuracy_score(y_test, non_robust_pred)]\n",
    "    robust_acc += [accuracy_score(y_test, robust_pred)]"
   ]
  },
  {
   "cell_type": "code",
   "execution_count": 52,
   "id": "0b6a4289",
   "metadata": {
    "cell_id": "00024-32351bf0-26fb-4ff1-9892-f9e0b484ca12",
    "deepnote_cell_height": 219.78125,
    "deepnote_cell_type": "code",
    "deepnote_to_be_reexecuted": false,
    "execution_millis": 4,
    "execution_start": 1664769936979,
    "source_hash": "8fcb1c0a"
   },
   "outputs": [
    {
     "name": "stdout",
     "output_type": "stream",
     "text": [
      "Worst-case accuracy (Non-Robust Tree):  0.4418604651162791\n",
      "Worst-case accuracy (Robust Tree):      0.5116279069767442\n",
      "Average accuracy (Non-Robust Tree):     0.5660930232558059\n",
      "Average accuracy (Robust Tree):         0.5584186046511533\n"
     ]
    }
   ],
   "source": [
    "print(\"Worst-case accuracy (Non-Robust Tree): \", min(non_robust_acc))\n",
    "print(\"Worst-case accuracy (Robust Tree):     \", min(robust_acc))\n",
    "print(\n",
    "    \"Average accuracy (Non-Robust Tree):    \", sum(non_robust_acc) / len(non_robust_acc)\n",
    ")\n",
    "print(\"Average accuracy (Robust Tree):        \", sum(robust_acc) / len(robust_acc))"
   ]
  },
  {
   "attachments": {},
   "cell_type": "markdown",
   "id": "117c0143",
   "metadata": {
    "cell_id": "6e94893cd87747d48562368a596e05cc",
    "deepnote_cell_height": 341.59375,
    "deepnote_cell_type": "markdown",
    "tags": []
   },
   "source": [
    "## References\n",
    "* Justin, N., Aghaei, S., Gómez, A., & Vayanos, P. (2022). Optimal robust classification trees. *The AAAI-2022 Workshop on Adversarial Machine Learning and Beyond*. https://openreview.net/pdf?id=HbasA9ysA3\n",
    "* Dua, D. and Graff, C. (2019). [UCI Machine Learning Repository](http://archive.ics.uci.edu/ml). Irvine, CA: University of California, School of Information and Computer Science."
   ]
  }
 ],
 "metadata": {
  "deepnote": {},
  "deepnote_execution_queue": [],
  "deepnote_notebook_id": "48fbaca3-de19-4cc4-b8bd-5da9f4b14110",
  "kernelspec": {
   "display_name": "Python 3 (ipykernel)",
   "language": "python",
   "name": "python3"
  },
  "language_info": {
   "codemirror_mode": {
    "name": "ipython",
    "version": 3
   },
   "file_extension": ".py",
   "mimetype": "text/x-python",
   "name": "python",
   "nbconvert_exporter": "python",
   "pygments_lexer": "ipython3",
   "version": "3.9.13"
  }
 },
 "nbformat": 4,
 "nbformat_minor": 5
}
